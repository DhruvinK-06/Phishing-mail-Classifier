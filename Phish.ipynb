{
 "cells": [
  {
   "cell_type": "code",
   "execution_count": 190,
   "id": "c9d46754-8a82-457a-b5e5-b4713184a61e",
   "metadata": {},
   "outputs": [],
   "source": [
    "import email\n",
    "import glob\n",
    "import os\n",
    "import numpy as np\n",
    "import pandas as pd\n",
    "from matplotlib import pyplot as plt\n",
    "from sklearn.model_selection import train_test_split, GridSearchCV\n",
    "from sklearn.preprocessing import StandardScaler\n",
    "from xgboost import XGBClassifier\n",
    "from sklearn.svm import SVC\n",
    "from sklearn.ensemble import (RandomForestClassifier, ExtraTreesClassifier, \n",
    "                              GradientBoostingClassifier, VotingClassifier, \n",
    "                              AdaBoostClassifier)\n",
    "from sklearn.tree import DecisionTreeClassifier\n",
    "from sklearn.linear_model import LogisticRegression\n",
    "from sklearn.neural_network import MLPClassifier\n",
    "from sklearn.neighbors import KNeighborsClassifier\n",
    "from sklearn.metrics import ConfusionMatrixDisplay, confusion_matrix, classification_report\n",
    "import seaborn as sns\n",
    "import warnings\n",
    "warnings.filterwarnings('ignore')"
   ]
  },
  {
   "cell_type": "code",
   "execution_count": 2,
   "id": "7521df53-f23c-47ea-9a3e-a4f3e7638b15",
   "metadata": {},
   "outputs": [],
   "source": [
    "from bs4 import BeautifulSoup as bs\n",
    "import re"
   ]
  },
  {
   "cell_type": "code",
   "execution_count": 3,
   "id": "af50e68c-c32d-43fc-9a3f-a090adda0a14",
   "metadata": {},
   "outputs": [],
   "source": [
    "phish = \"C:/Users/dhruv/Jupyter Notebooks/projects/Canary/Phishing Dataset/phishing/\"\n",
    "normal = \"C:/Users/dhruv/Jupyter Notebooks/projects/Canary/Phishing Dataset/normal/\""
   ]
  },
  {
   "cell_type": "code",
   "execution_count": 4,
   "id": "c8687231-25f0-4b27-93bb-e2507ce0c072",
   "metadata": {},
   "outputs": [],
   "source": [
    "phish =glob.glob(phish + \"*.*\")\n",
    "normal = glob.glob(normal + '*.*')"
   ]
  },
  {
   "cell_type": "code",
   "execution_count": 5,
   "id": "4b0f3b47-84e8-472a-a112-0d5ccc69e024",
   "metadata": {},
   "outputs": [],
   "source": [
    "# mm = os.path.join(phish, '34.eml')\n",
    "# with open(mm, 'r') as f:\n",
    "#     cont = f.read()\n",
    "#     b = email.message_from_string(cont)\n",
    "# x = b.get_payload()\n",
    "# soup = bs(x, 'html.parser')\n",
    "# # body = re.sub('\\s+', ' ', bs(x, 'html.parser').get_text()).strip()"
   ]
  },
  {
   "cell_type": "code",
   "execution_count": 6,
   "id": "d6eaa006-3ba9-40f5-927a-1ec2983305c2",
   "metadata": {},
   "outputs": [],
   "source": [
    "# Initialiasing the lists to store the attributes\n",
    "lnks = []; dear = []; account = []; secure = []; bank = []; html = []; protect = []; click = [];\n",
    "verify = []; sus = []; eb_pay = []; clss = []; log = []; img = []; please = []; thank = []\n",
    "\n",
    "\n",
    "# Calculating and storing all the attributes in the loop below\n",
    "for fl in phish:\n",
    "    # Calculating all the attribues for the phishing mails\n",
    "    with open(fl, 'r', errors = 'ignore') as f:\n",
    "        content = f.read()\n",
    "        # Extracting the mail and its metadata from the file\n",
    "        b = email.message_from_string(content)\n",
    "\n",
    "        # Extracting the meaningful information from the message extracted\n",
    "        if b.is_multipart():\n",
    "            for part in b.get_payload():\n",
    "                mail = part.get_payload()\n",
    "        else:\n",
    "            mail = b.get_payload()\n",
    "\n",
    "        # If I can directly access the mail then get the body else just skip the given mail\n",
    "        try:\n",
    "            soup = bs(mail, 'html.parser')\n",
    "            body = re.sub('\\s+', ' ', soup.get_text()).strip()\n",
    "        except:\n",
    "            continue\n",
    "\n",
    "        # Extract all the links from the body of the mail\n",
    "        imgs = soup.find_all('img')\n",
    "        # links = re.findall('htt?p?s?://\\S+', body)\n",
    "        links = soup.find_all('a')\n",
    "        htmls = soup.find_all()\n",
    "\n",
    "        # Convert all the strings in the body to lower case\n",
    "        body = body.lower()\n",
    "        \n",
    "        # Store the number of links in the lnks variable\n",
    "        html.append(len(htmls))\n",
    "        lnks.append(len(links))\n",
    "        img.append(len(imgs))\n",
    "        \n",
    "        # Check if the mail contains the word dear in it\n",
    "        if 'dear' in body:\n",
    "            dear.append(1)\n",
    "        else:\n",
    "            dear.append(0)\n",
    "        \n",
    "        # Check if the word login is in the body\n",
    "        if 'login' in body or 'log in' in body or 'log-in' in body:\n",
    "            log.append(1)\n",
    "        else:\n",
    "            log.append(0)  \n",
    "\n",
    "        # Check if the mail contains the word account in it\n",
    "        if 'account' in body:\n",
    "            account.append(1)\n",
    "        else:\n",
    "            account.append(0)\n",
    "\n",
    "\n",
    "        # Check if the mail contains the word bank in it\n",
    "        if 'bank' in body:\n",
    "            bank.append(1)\n",
    "        else:\n",
    "            bank.append(0)  \n",
    "            \n",
    "        # Check if the mail contains the word please in it\n",
    "        if 'please' in body:\n",
    "            please.append(1)\n",
    "        else:\n",
    "            please.append(0) \n",
    "        \n",
    "        # Check if the mail contains the word protect in it\n",
    "        if 'protect' in body:\n",
    "            protect.append(1)\n",
    "        else:\n",
    "            protect.append(0) \n",
    "        \n",
    "        # Check if the mail contains the word click in it\n",
    "        if 'click' in body or 'select' in body or 'visit' in body:\n",
    "            click.append(1)\n",
    "        else:\n",
    "            click.append(0)\n",
    "\n",
    "        # Check if the mail contains the word thank you in it\n",
    "        if 'thank you' in body:\n",
    "            thank.append(1)\n",
    "        else:\n",
    "            thank.append(0)    \n",
    "        \n",
    "        # Check if the mail contains the word secure or security in it        \n",
    "        if 'secure' in body or 'security' in body:\n",
    "            secure.append(1)\n",
    "        else:\n",
    "            secure.append(0)\n",
    "            \n",
    "        # Check if the mail contains the word suspend or suspended in it\n",
    "        if 'suspend' in body or 'suspended' in body:\n",
    "            sus.append(1)\n",
    "        else:\n",
    "            sus.append(0)\n",
    "            \n",
    "        # Check if the mail contains the word verify in it\n",
    "        if 'verify' in body:\n",
    "            verify.append(1)\n",
    "        else:\n",
    "            verify.append(0)\n",
    "        \n",
    "        # Check if the mail contains the word ebay or paypal in it\n",
    "        if 'ebay' in body or 'paypal' in body:\n",
    "            eb_pay.append(1)\n",
    "        else:\n",
    "            eb_pay.append(0)\n",
    "            \n",
    "\n",
    "        # Class for the phishing mails is 1\n",
    "        clss.append(1)\n",
    "        \n",
    "for fl in normal:\n",
    "    # Calculating all the attribues for the normal mails\n",
    "    with open(fl, 'r', errors = 'ignore') as f:\n",
    "        content = f.read()\n",
    "        # Extracting the mail and its metadata from the file\n",
    "        b = email.message_from_string(content)\n",
    "\n",
    "        # Extracting the meaningful information from the message extracted\n",
    "        if b.is_multipart():\n",
    "            for part in b.get_payload():\n",
    "                mail = part.get_payload()\n",
    "        else:\n",
    "            mail = b.get_payload()\n",
    "\n",
    "        # If I can directly access the mail then get the body else just skip the given mail\n",
    "        try:\n",
    "            soup = bs(mail, 'html.parser')\n",
    "            body = re.sub('\\s+', ' ', soup.get_text()).strip()\n",
    "        except:\n",
    "            continue\n",
    "\n",
    "        # Extract all the links from the body of the mail\n",
    "        imgs = soup.find_all('img')\n",
    "        # links = re.findall('htt?p?s?://\\S+', body)\n",
    "        links = soup.find_all('a')\n",
    "        htmls = soup.findAll()\n",
    "\n",
    "\n",
    "        # Convert all the strings in the body to lower case\n",
    "        body = body.lower()\n",
    "        \n",
    "        # Store the number of links in the lnks variable\n",
    "        img.append(len(imgs))\n",
    "        lnks.append(len(links))\n",
    "        html.append(len(htmls))\n",
    "        \n",
    "        # Check if the mail contains the word dear in it\n",
    "        if 'dear' in body:\n",
    "            dear.append(1)\n",
    "        else:\n",
    "            dear.append(0)\n",
    "            \n",
    "        # Check if the mail contains the word account in it\n",
    "        if 'account' in body:\n",
    "            account.append(1)\n",
    "        else:\n",
    "            account.append(0)\n",
    "        \n",
    "        # Check if the mail contains the word bank in it\n",
    "        if 'please' in body:\n",
    "            bank.append(1)\n",
    "        else:\n",
    "            bank.append(0)\n",
    "        \n",
    "        # Check if the mail contains the word protect in it\n",
    "        if 'protect' in body:\n",
    "            protect.append(1)\n",
    "        else:\n",
    "            protect.append(0) \n",
    "        \n",
    "        # Check if the mail contains the word click in it\n",
    "        if 'click' in body or 'select' in body or 'visit' in body:\n",
    "            click.append(1)\n",
    "        else:\n",
    "            click.append(0)\n",
    "            \n",
    "        # Check if the mail contains the word thank you in it\n",
    "        if 'thank you' in body:\n",
    "            thank.append(1)\n",
    "        else:\n",
    "            thank.append(0)  \n",
    "\n",
    "        # Check if the word login is in the body\n",
    "        if 'login' in body or 'log in' in body or 'log-in' in body:\n",
    "            log.append(1)\n",
    "        else:\n",
    "            log.append(0)  \n",
    "            \n",
    "        # Check if the mail contains the word please in it\n",
    "        if 'please' in body:\n",
    "            please.append(1)\n",
    "        else:\n",
    "            please.append(0)  \n",
    "\n",
    "        # Check if the mail contains the word secure or security in it        \n",
    "        if 'secure' in body or 'security' in body:\n",
    "            secure.append(1)\n",
    "        else:\n",
    "            secure.append(0)\n",
    "            \n",
    "        # Check if the mail contains the word suspend or suspended in it\n",
    "        if 'suspend' in body or 'suspended' in body:\n",
    "            sus.append(1)\n",
    "        else:\n",
    "            sus.append(0)\n",
    "            \n",
    "        # Check if the mail contains the word verify in it\n",
    "        if 'verify' in body:\n",
    "            verify.append(1)\n",
    "        else:\n",
    "            verify.append(0)\n",
    "        \n",
    "        # Check if the mail contains the word ebay or paypal in it\n",
    "        if 'ebay' in body or 'paypal' in body:\n",
    "            eb_pay.append(1)\n",
    "        else:\n",
    "            eb_pay.append(0)\n",
    "\n",
    "        # Class for normal mails is 0  \n",
    "        clss.append(0)\n"
   ]
  },
  {
   "cell_type": "code",
   "execution_count": 7,
   "id": "8daa7358-5546-4f26-8170-a4fe63a435c8",
   "metadata": {},
   "outputs": [
    {
     "data": {
      "text/plain": [
       "[4774,\n",
       " 4774,\n",
       " 4774,\n",
       " 4774,\n",
       " 4774,\n",
       " 4774,\n",
       " 4774,\n",
       " 4774,\n",
       " 4774,\n",
       " 4774,\n",
       " 4774,\n",
       " 4774,\n",
       " 4774,\n",
       " 4774,\n",
       " 4774]"
      ]
     },
     "execution_count": 7,
     "metadata": {},
     "output_type": "execute_result"
    }
   ],
   "source": [
    "[len(lnks), len(dear), len(account), len(secure), len(verify), len(protect), len(sus), len(click),  \n",
    "len(eb_pay), len(clss), len(log), len(img), len(bank), len(html), len(thank)]"
   ]
  },
  {
   "cell_type": "code",
   "execution_count": null,
   "id": "bca3202b-3e0e-46c4-9df7-0e50daf0e1ec",
   "metadata": {},
   "outputs": [],
   "source": []
  },
  {
   "cell_type": "code",
   "execution_count": 184,
   "id": "951cf377-7b9c-4fd7-bff4-4f6f8652639b",
   "metadata": {},
   "outputs": [
    {
     "name": "stdout",
     "output_type": "stream",
     "text": [
      "Fitting 5 folds for each of 126 candidates, totalling 630 fits\n"
     ]
    },
    {
     "data": {
      "text/plain": [
       "(ExtraTreesClassifier(max_depth=16, max_leaf_nodes=44, n_estimators=40),\n",
       " 0.9298429319371728)"
      ]
     },
     "execution_count": 184,
     "metadata": {},
     "output_type": "execute_result"
    }
   ],
   "source": [
    "# Convert all the data calculated and extracted above in a dictionary\n",
    "data = {'Links':lnks, \n",
    "        'Dears': dear, \n",
    "        'Account': account, \n",
    "        'HTML': html, \n",
    "        # 'Secure': secure, \n",
    "        # 'Login': log, \n",
    "        'Protect': protect, \n",
    "        # 'Verify': verify, \n",
    "        'Click': click,\n",
    "        # 'Suspend': sus, \n",
    "        'Images': img, \n",
    "        'Bank': bank, \n",
    "        'Please': please, \n",
    "        'Thank You': thank, \n",
    "        'Ebay and Paypal': eb_pay, \n",
    "        'Target': clss}\n",
    "df = pd.DataFrame(data)\n",
    "\n",
    "X = df.drop(['Target'], axis = 1)\n",
    "y = df['Target']\n",
    "X_train, X_test, y_train, y_test = train_test_split(X, y, test_size=0.2, shuffle = True, random_state = 42, stratify = y)\n",
    "\n",
    "ss = StandardScaler()\n",
    "columns = ['Links', 'HTML', 'Images']\n",
    "X_train.loc[:, columns] = ss.fit_transform(X_train[columns])\n",
    "X_test.loc[:, columns] = ss.transform(X_test[columns])\n",
    "\n",
    "param = [\n",
    "    {'n_estimators': range(20, 160, 20), \n",
    "     'max_depth': range(8, 20, 4),\n",
    "     'max_leaf_nodes': range(32, 56, 4),\n",
    "    }\n",
    "]\n",
    "\n",
    "et = ExtraTreesClassifier()\n",
    "gs_et = GridSearchCV(et, param, cv = 5, n_jobs = -1, verbose = 1)\n",
    "gs_et.fit(X_train, y_train)\n",
    "\n",
    "et_best = gs_et.best_estimator_\n",
    "gs_et.best_estimator_, gs_et.score(X_test, y_test)"
   ]
  },
  {
   "cell_type": "code",
   "execution_count": 210,
   "id": "5c1191c9-8976-41ef-9bcb-4dddf7dcbab1",
   "metadata": {},
   "outputs": [
    {
     "name": "stdout",
     "output_type": "stream",
     "text": [
      "Feature Importances:\n"
     ]
    },
    {
     "data": {
      "text/plain": [
       "Links              0.037604\n",
       "Dears              0.166028\n",
       "Account            0.085075\n",
       "HTML               0.060647\n",
       "Protect            0.028697\n",
       "Click              0.033478\n",
       "Images             0.030596\n",
       "Bank               0.038882\n",
       "Please             0.262537\n",
       "Thank You          0.140416\n",
       "Ebay and Paypal    0.116040\n",
       "dtype: float64"
      ]
     },
     "execution_count": 210,
     "metadata": {},
     "output_type": "execute_result"
    }
   ],
   "source": [
    "print('Feature Importances:')\n",
    "pd.Series(et_best.feature_importances_, index = X_train.columns)"
   ]
  },
  {
   "cell_type": "code",
   "execution_count": 61,
   "id": "34e265f5-8a11-4681-be0c-1bfc121816be",
   "metadata": {},
   "outputs": [],
   "source": [
    "X = df.drop(['Target'], axis = 1)\n",
    "y = df['Target']\n",
    "X_train, X_test, y_train, y_test = train_test_split(X, y, test_size=0.2, shuffle = True, random_state = 42, stratify = y)"
   ]
  },
  {
   "cell_type": "code",
   "execution_count": 62,
   "id": "53f4c955-3042-4ec2-a844-ddbb4a48298f",
   "metadata": {},
   "outputs": [],
   "source": [
    "ss = StandardScaler()\n",
    "columns = ['Links', 'HTML', 'Images']\n",
    "X_train.loc[:, columns] = ss.fit_transform(X_train[columns])\n",
    "X_test.loc[:, columns] = ss.transform(X_test[columns])"
   ]
  },
  {
   "cell_type": "code",
   "execution_count": 63,
   "id": "02ff6c5c-fdc4-436b-b994-10a6bb7c6662",
   "metadata": {},
   "outputs": [
    {
     "name": "stdout",
     "output_type": "stream",
     "text": [
      "Fitting 5 folds for each of 210 candidates, totalling 1050 fits\n"
     ]
    },
    {
     "data": {
      "text/plain": [
       "(ExtraTreesClassifier(max_depth=44, max_leaf_nodes=44, n_estimators=20),\n",
       " 0.9287958115183246)"
      ]
     },
     "execution_count": 63,
     "metadata": {},
     "output_type": "execute_result"
    }
   ],
   "source": [
    "param = [\n",
    "    {'n_estimators': range(8, 28, 4), \n",
    "     'max_depth': range(24, 48, 4),\n",
    "     'max_leaf_nodes': range(20, 48, 4),\n",
    "    }\n",
    "]\n",
    "\n",
    "et = ExtraTreesClassifier()\n",
    "gs_et = GridSearchCV(et, param, cv = 5, n_jobs = -1, verbose = 1)\n",
    "gs_et.fit(X_train, y_train)\n",
    "\n",
    "et_best = gs_et.best_estimator_\n",
    "gs_et.best_estimator_, gs_et.score(X_test, y_test)"
   ]
  },
  {
   "cell_type": "code",
   "execution_count": 9,
   "id": "fa29c56d-aea1-4fab-89dc-d18bf3bd501b",
   "metadata": {},
   "outputs": [
    {
     "data": {
      "text/plain": [
       "1    1301\n",
       "0     533\n",
       "Name: Target, dtype: int64"
      ]
     },
     "execution_count": 9,
     "metadata": {},
     "output_type": "execute_result"
    }
   ],
   "source": [
    "pd.value_counts(df[(df['Click'] == 1)]['Target'])"
   ]
  },
  {
   "cell_type": "code",
   "execution_count": 10,
   "id": "477e68a7-1dcb-4d20-8329-8f53cd83d563",
   "metadata": {},
   "outputs": [
    {
     "data": {
      "text/html": [
       "<div>\n",
       "<style scoped>\n",
       "    .dataframe tbody tr th:only-of-type {\n",
       "        vertical-align: middle;\n",
       "    }\n",
       "\n",
       "    .dataframe tbody tr th {\n",
       "        vertical-align: top;\n",
       "    }\n",
       "\n",
       "    .dataframe thead th {\n",
       "        text-align: right;\n",
       "    }\n",
       "</style>\n",
       "<table border=\"1\" class=\"dataframe\">\n",
       "  <thead>\n",
       "    <tr style=\"text-align: right;\">\n",
       "      <th></th>\n",
       "      <th>Links</th>\n",
       "      <th>Dears</th>\n",
       "      <th>Account</th>\n",
       "      <th>HTML</th>\n",
       "      <th>Secure</th>\n",
       "      <th>Login</th>\n",
       "      <th>Protect</th>\n",
       "      <th>Verify</th>\n",
       "      <th>Click</th>\n",
       "      <th>Suspend</th>\n",
       "      <th>Images</th>\n",
       "      <th>Bank</th>\n",
       "      <th>Please</th>\n",
       "      <th>Thank You</th>\n",
       "      <th>Ebay and Paypal</th>\n",
       "      <th>Target</th>\n",
       "    </tr>\n",
       "  </thead>\n",
       "  <tbody>\n",
       "    <tr>\n",
       "      <th>2</th>\n",
       "      <td>3</td>\n",
       "      <td>1</td>\n",
       "      <td>1</td>\n",
       "      <td>101</td>\n",
       "      <td>1</td>\n",
       "      <td>1</td>\n",
       "      <td>1</td>\n",
       "      <td>0</td>\n",
       "      <td>1</td>\n",
       "      <td>0</td>\n",
       "      <td>1</td>\n",
       "      <td>0</td>\n",
       "      <td>1</td>\n",
       "      <td>1</td>\n",
       "      <td>1</td>\n",
       "      <td>1</td>\n",
       "    </tr>\n",
       "    <tr>\n",
       "      <th>3</th>\n",
       "      <td>5</td>\n",
       "      <td>1</td>\n",
       "      <td>1</td>\n",
       "      <td>110</td>\n",
       "      <td>1</td>\n",
       "      <td>1</td>\n",
       "      <td>1</td>\n",
       "      <td>0</td>\n",
       "      <td>1</td>\n",
       "      <td>0</td>\n",
       "      <td>7</td>\n",
       "      <td>0</td>\n",
       "      <td>1</td>\n",
       "      <td>1</td>\n",
       "      <td>1</td>\n",
       "      <td>1</td>\n",
       "    </tr>\n",
       "    <tr>\n",
       "      <th>4</th>\n",
       "      <td>1</td>\n",
       "      <td>0</td>\n",
       "      <td>1</td>\n",
       "      <td>27</td>\n",
       "      <td>0</td>\n",
       "      <td>1</td>\n",
       "      <td>1</td>\n",
       "      <td>1</td>\n",
       "      <td>1</td>\n",
       "      <td>1</td>\n",
       "      <td>0</td>\n",
       "      <td>0</td>\n",
       "      <td>1</td>\n",
       "      <td>1</td>\n",
       "      <td>1</td>\n",
       "      <td>1</td>\n",
       "    </tr>\n",
       "    <tr>\n",
       "      <th>6</th>\n",
       "      <td>1</td>\n",
       "      <td>0</td>\n",
       "      <td>1</td>\n",
       "      <td>55</td>\n",
       "      <td>0</td>\n",
       "      <td>1</td>\n",
       "      <td>1</td>\n",
       "      <td>0</td>\n",
       "      <td>0</td>\n",
       "      <td>0</td>\n",
       "      <td>4</td>\n",
       "      <td>0</td>\n",
       "      <td>1</td>\n",
       "      <td>1</td>\n",
       "      <td>1</td>\n",
       "      <td>1</td>\n",
       "    </tr>\n",
       "    <tr>\n",
       "      <th>7</th>\n",
       "      <td>1</td>\n",
       "      <td>0</td>\n",
       "      <td>1</td>\n",
       "      <td>57</td>\n",
       "      <td>1</td>\n",
       "      <td>0</td>\n",
       "      <td>1</td>\n",
       "      <td>0</td>\n",
       "      <td>1</td>\n",
       "      <td>0</td>\n",
       "      <td>1</td>\n",
       "      <td>0</td>\n",
       "      <td>1</td>\n",
       "      <td>0</td>\n",
       "      <td>1</td>\n",
       "      <td>1</td>\n",
       "    </tr>\n",
       "    <tr>\n",
       "      <th>...</th>\n",
       "      <td>...</td>\n",
       "      <td>...</td>\n",
       "      <td>...</td>\n",
       "      <td>...</td>\n",
       "      <td>...</td>\n",
       "      <td>...</td>\n",
       "      <td>...</td>\n",
       "      <td>...</td>\n",
       "      <td>...</td>\n",
       "      <td>...</td>\n",
       "      <td>...</td>\n",
       "      <td>...</td>\n",
       "      <td>...</td>\n",
       "      <td>...</td>\n",
       "      <td>...</td>\n",
       "      <td>...</td>\n",
       "    </tr>\n",
       "    <tr>\n",
       "      <th>4388</th>\n",
       "      <td>0</td>\n",
       "      <td>0</td>\n",
       "      <td>0</td>\n",
       "      <td>0</td>\n",
       "      <td>0</td>\n",
       "      <td>0</td>\n",
       "      <td>1</td>\n",
       "      <td>0</td>\n",
       "      <td>0</td>\n",
       "      <td>0</td>\n",
       "      <td>0</td>\n",
       "      <td>0</td>\n",
       "      <td>0</td>\n",
       "      <td>0</td>\n",
       "      <td>0</td>\n",
       "      <td>0</td>\n",
       "    </tr>\n",
       "    <tr>\n",
       "      <th>4417</th>\n",
       "      <td>0</td>\n",
       "      <td>0</td>\n",
       "      <td>0</td>\n",
       "      <td>0</td>\n",
       "      <td>0</td>\n",
       "      <td>0</td>\n",
       "      <td>1</td>\n",
       "      <td>0</td>\n",
       "      <td>0</td>\n",
       "      <td>0</td>\n",
       "      <td>0</td>\n",
       "      <td>0</td>\n",
       "      <td>0</td>\n",
       "      <td>0</td>\n",
       "      <td>0</td>\n",
       "      <td>0</td>\n",
       "    </tr>\n",
       "    <tr>\n",
       "      <th>4518</th>\n",
       "      <td>0</td>\n",
       "      <td>0</td>\n",
       "      <td>0</td>\n",
       "      <td>0</td>\n",
       "      <td>0</td>\n",
       "      <td>0</td>\n",
       "      <td>1</td>\n",
       "      <td>0</td>\n",
       "      <td>0</td>\n",
       "      <td>0</td>\n",
       "      <td>0</td>\n",
       "      <td>0</td>\n",
       "      <td>0</td>\n",
       "      <td>0</td>\n",
       "      <td>0</td>\n",
       "      <td>0</td>\n",
       "    </tr>\n",
       "    <tr>\n",
       "      <th>4548</th>\n",
       "      <td>0</td>\n",
       "      <td>0</td>\n",
       "      <td>0</td>\n",
       "      <td>0</td>\n",
       "      <td>0</td>\n",
       "      <td>0</td>\n",
       "      <td>1</td>\n",
       "      <td>0</td>\n",
       "      <td>0</td>\n",
       "      <td>0</td>\n",
       "      <td>0</td>\n",
       "      <td>0</td>\n",
       "      <td>0</td>\n",
       "      <td>0</td>\n",
       "      <td>0</td>\n",
       "      <td>0</td>\n",
       "    </tr>\n",
       "    <tr>\n",
       "      <th>4754</th>\n",
       "      <td>0</td>\n",
       "      <td>0</td>\n",
       "      <td>0</td>\n",
       "      <td>0</td>\n",
       "      <td>0</td>\n",
       "      <td>0</td>\n",
       "      <td>1</td>\n",
       "      <td>0</td>\n",
       "      <td>1</td>\n",
       "      <td>0</td>\n",
       "      <td>0</td>\n",
       "      <td>0</td>\n",
       "      <td>0</td>\n",
       "      <td>0</td>\n",
       "      <td>0</td>\n",
       "      <td>0</td>\n",
       "    </tr>\n",
       "  </tbody>\n",
       "</table>\n",
       "<p>996 rows × 16 columns</p>\n",
       "</div>"
      ],
      "text/plain": [
       "      Links  Dears  Account  HTML  Secure  Login  Protect  Verify  Click  \\\n",
       "2         3      1        1   101       1      1        1       0      1   \n",
       "3         5      1        1   110       1      1        1       0      1   \n",
       "4         1      0        1    27       0      1        1       1      1   \n",
       "6         1      0        1    55       0      1        1       0      0   \n",
       "7         1      0        1    57       1      0        1       0      1   \n",
       "...     ...    ...      ...   ...     ...    ...      ...     ...    ...   \n",
       "4388      0      0        0     0       0      0        1       0      0   \n",
       "4417      0      0        0     0       0      0        1       0      0   \n",
       "4518      0      0        0     0       0      0        1       0      0   \n",
       "4548      0      0        0     0       0      0        1       0      0   \n",
       "4754      0      0        0     0       0      0        1       0      1   \n",
       "\n",
       "      Suspend  Images  Bank  Please  Thank You  Ebay and Paypal  Target  \n",
       "2           0       1     0       1          1                1       1  \n",
       "3           0       7     0       1          1                1       1  \n",
       "4           1       0     0       1          1                1       1  \n",
       "6           0       4     0       1          1                1       1  \n",
       "7           0       1     0       1          0                1       1  \n",
       "...       ...     ...   ...     ...        ...              ...     ...  \n",
       "4388        0       0     0       0          0                0       0  \n",
       "4417        0       0     0       0          0                0       0  \n",
       "4518        0       0     0       0          0                0       0  \n",
       "4548        0       0     0       0          0                0       0  \n",
       "4754        0       0     0       0          0                0       0  \n",
       "\n",
       "[996 rows x 16 columns]"
      ]
     },
     "execution_count": 10,
     "metadata": {},
     "output_type": "execute_result"
    }
   ],
   "source": [
    "df[(df['Protect'] == 1) ]"
   ]
  },
  {
   "cell_type": "code",
   "execution_count": 12,
   "id": "e1a21d3e-622d-4e77-ae5f-5d7f268a43cb",
   "metadata": {},
   "outputs": [
    {
     "data": {
      "text/html": [
       "<div>\n",
       "<style scoped>\n",
       "    .dataframe tbody tr th:only-of-type {\n",
       "        vertical-align: middle;\n",
       "    }\n",
       "\n",
       "    .dataframe tbody tr th {\n",
       "        vertical-align: top;\n",
       "    }\n",
       "\n",
       "    .dataframe thead th {\n",
       "        text-align: right;\n",
       "    }\n",
       "</style>\n",
       "<table border=\"1\" class=\"dataframe\">\n",
       "  <thead>\n",
       "    <tr style=\"text-align: right;\">\n",
       "      <th></th>\n",
       "      <th>Links</th>\n",
       "      <th>Dears</th>\n",
       "      <th>Account</th>\n",
       "      <th>HTML</th>\n",
       "      <th>Secure</th>\n",
       "      <th>Login</th>\n",
       "      <th>Protect</th>\n",
       "      <th>Verify</th>\n",
       "      <th>Click</th>\n",
       "      <th>Suspend</th>\n",
       "      <th>Images</th>\n",
       "      <th>Bank</th>\n",
       "      <th>Please</th>\n",
       "      <th>Thank You</th>\n",
       "      <th>Ebay and Paypal</th>\n",
       "    </tr>\n",
       "  </thead>\n",
       "  <tbody>\n",
       "    <tr>\n",
       "      <th>3563</th>\n",
       "      <td>0</td>\n",
       "      <td>0</td>\n",
       "      <td>0</td>\n",
       "      <td>1</td>\n",
       "      <td>0</td>\n",
       "      <td>0</td>\n",
       "      <td>0</td>\n",
       "      <td>0</td>\n",
       "      <td>0</td>\n",
       "      <td>0</td>\n",
       "      <td>0</td>\n",
       "      <td>0</td>\n",
       "      <td>0</td>\n",
       "      <td>0</td>\n",
       "      <td>0</td>\n",
       "    </tr>\n",
       "    <tr>\n",
       "      <th>2747</th>\n",
       "      <td>0</td>\n",
       "      <td>1</td>\n",
       "      <td>0</td>\n",
       "      <td>0</td>\n",
       "      <td>0</td>\n",
       "      <td>0</td>\n",
       "      <td>0</td>\n",
       "      <td>0</td>\n",
       "      <td>0</td>\n",
       "      <td>0</td>\n",
       "      <td>0</td>\n",
       "      <td>1</td>\n",
       "      <td>1</td>\n",
       "      <td>0</td>\n",
       "      <td>0</td>\n",
       "    </tr>\n",
       "    <tr>\n",
       "      <th>2224</th>\n",
       "      <td>6</td>\n",
       "      <td>1</td>\n",
       "      <td>1</td>\n",
       "      <td>235</td>\n",
       "      <td>1</td>\n",
       "      <td>1</td>\n",
       "      <td>1</td>\n",
       "      <td>0</td>\n",
       "      <td>1</td>\n",
       "      <td>0</td>\n",
       "      <td>54</td>\n",
       "      <td>1</td>\n",
       "      <td>0</td>\n",
       "      <td>1</td>\n",
       "      <td>1</td>\n",
       "    </tr>\n",
       "    <tr>\n",
       "      <th>71</th>\n",
       "      <td>1</td>\n",
       "      <td>1</td>\n",
       "      <td>1</td>\n",
       "      <td>28</td>\n",
       "      <td>1</td>\n",
       "      <td>0</td>\n",
       "      <td>0</td>\n",
       "      <td>0</td>\n",
       "      <td>1</td>\n",
       "      <td>0</td>\n",
       "      <td>1</td>\n",
       "      <td>1</td>\n",
       "      <td>1</td>\n",
       "      <td>1</td>\n",
       "      <td>0</td>\n",
       "    </tr>\n",
       "    <tr>\n",
       "      <th>3476</th>\n",
       "      <td>0</td>\n",
       "      <td>0</td>\n",
       "      <td>0</td>\n",
       "      <td>0</td>\n",
       "      <td>0</td>\n",
       "      <td>0</td>\n",
       "      <td>0</td>\n",
       "      <td>0</td>\n",
       "      <td>0</td>\n",
       "      <td>0</td>\n",
       "      <td>0</td>\n",
       "      <td>0</td>\n",
       "      <td>0</td>\n",
       "      <td>0</td>\n",
       "      <td>0</td>\n",
       "    </tr>\n",
       "  </tbody>\n",
       "</table>\n",
       "</div>"
      ],
      "text/plain": [
       "      Links  Dears  Account  HTML  Secure  Login  Protect  Verify  Click  \\\n",
       "3563      0      0        0     1       0      0        0       0      0   \n",
       "2747      0      1        0     0       0      0        0       0      0   \n",
       "2224      6      1        1   235       1      1        1       0      1   \n",
       "71        1      1        1    28       1      0        0       0      1   \n",
       "3476      0      0        0     0       0      0        0       0      0   \n",
       "\n",
       "      Suspend  Images  Bank  Please  Thank You  Ebay and Paypal  \n",
       "3563        0       0     0       0          0                0  \n",
       "2747        0       0     1       1          0                0  \n",
       "2224        0      54     1       0          1                1  \n",
       "71          0       1     1       1          1                0  \n",
       "3476        0       0     0       0          0                0  "
      ]
     },
     "execution_count": 12,
     "metadata": {},
     "output_type": "execute_result"
    }
   ],
   "source": [
    "X_train.head()"
   ]
  },
  {
   "cell_type": "code",
   "execution_count": 13,
   "id": "07c43f64-1244-49dd-b4b0-5194c4690527",
   "metadata": {},
   "outputs": [
    {
     "data": {
      "text/html": [
       "<div>\n",
       "<style scoped>\n",
       "    .dataframe tbody tr th:only-of-type {\n",
       "        vertical-align: middle;\n",
       "    }\n",
       "\n",
       "    .dataframe tbody tr th {\n",
       "        vertical-align: top;\n",
       "    }\n",
       "\n",
       "    .dataframe thead th {\n",
       "        text-align: right;\n",
       "    }\n",
       "</style>\n",
       "<table border=\"1\" class=\"dataframe\">\n",
       "  <thead>\n",
       "    <tr style=\"text-align: right;\">\n",
       "      <th></th>\n",
       "      <th>Links</th>\n",
       "      <th>Dears</th>\n",
       "      <th>Account</th>\n",
       "      <th>HTML</th>\n",
       "      <th>Secure</th>\n",
       "      <th>Login</th>\n",
       "      <th>Protect</th>\n",
       "      <th>Verify</th>\n",
       "      <th>Click</th>\n",
       "      <th>Suspend</th>\n",
       "      <th>Images</th>\n",
       "      <th>Bank</th>\n",
       "      <th>Please</th>\n",
       "      <th>Thank You</th>\n",
       "      <th>Ebay and Paypal</th>\n",
       "    </tr>\n",
       "  </thead>\n",
       "  <tbody>\n",
       "    <tr>\n",
       "      <th>839</th>\n",
       "      <td>0</td>\n",
       "      <td>0</td>\n",
       "      <td>0</td>\n",
       "      <td>0</td>\n",
       "      <td>0</td>\n",
       "      <td>0</td>\n",
       "      <td>0</td>\n",
       "      <td>0</td>\n",
       "      <td>0</td>\n",
       "      <td>0</td>\n",
       "      <td>0</td>\n",
       "      <td>0</td>\n",
       "      <td>0</td>\n",
       "      <td>0</td>\n",
       "      <td>0</td>\n",
       "    </tr>\n",
       "    <tr>\n",
       "      <th>902</th>\n",
       "      <td>1</td>\n",
       "      <td>1</td>\n",
       "      <td>1</td>\n",
       "      <td>18</td>\n",
       "      <td>1</td>\n",
       "      <td>1</td>\n",
       "      <td>0</td>\n",
       "      <td>0</td>\n",
       "      <td>1</td>\n",
       "      <td>0</td>\n",
       "      <td>1</td>\n",
       "      <td>1</td>\n",
       "      <td>1</td>\n",
       "      <td>1</td>\n",
       "      <td>0</td>\n",
       "    </tr>\n",
       "    <tr>\n",
       "      <th>4439</th>\n",
       "      <td>0</td>\n",
       "      <td>0</td>\n",
       "      <td>0</td>\n",
       "      <td>0</td>\n",
       "      <td>0</td>\n",
       "      <td>0</td>\n",
       "      <td>0</td>\n",
       "      <td>0</td>\n",
       "      <td>0</td>\n",
       "      <td>0</td>\n",
       "      <td>0</td>\n",
       "      <td>0</td>\n",
       "      <td>0</td>\n",
       "      <td>0</td>\n",
       "      <td>0</td>\n",
       "    </tr>\n",
       "    <tr>\n",
       "      <th>627</th>\n",
       "      <td>1</td>\n",
       "      <td>0</td>\n",
       "      <td>1</td>\n",
       "      <td>46</td>\n",
       "      <td>1</td>\n",
       "      <td>1</td>\n",
       "      <td>0</td>\n",
       "      <td>0</td>\n",
       "      <td>0</td>\n",
       "      <td>1</td>\n",
       "      <td>0</td>\n",
       "      <td>1</td>\n",
       "      <td>1</td>\n",
       "      <td>1</td>\n",
       "      <td>1</td>\n",
       "    </tr>\n",
       "    <tr>\n",
       "      <th>1821</th>\n",
       "      <td>1</td>\n",
       "      <td>1</td>\n",
       "      <td>0</td>\n",
       "      <td>36</td>\n",
       "      <td>0</td>\n",
       "      <td>0</td>\n",
       "      <td>0</td>\n",
       "      <td>0</td>\n",
       "      <td>1</td>\n",
       "      <td>0</td>\n",
       "      <td>0</td>\n",
       "      <td>1</td>\n",
       "      <td>1</td>\n",
       "      <td>1</td>\n",
       "      <td>0</td>\n",
       "    </tr>\n",
       "  </tbody>\n",
       "</table>\n",
       "</div>"
      ],
      "text/plain": [
       "      Links  Dears  Account  HTML  Secure  Login  Protect  Verify  Click  \\\n",
       "839       0      0        0     0       0      0        0       0      0   \n",
       "902       1      1        1    18       1      1        0       0      1   \n",
       "4439      0      0        0     0       0      0        0       0      0   \n",
       "627       1      0        1    46       1      1        0       0      0   \n",
       "1821      1      1        0    36       0      0        0       0      1   \n",
       "\n",
       "      Suspend  Images  Bank  Please  Thank You  Ebay and Paypal  \n",
       "839         0       0     0       0          0                0  \n",
       "902         0       1     1       1          1                0  \n",
       "4439        0       0     0       0          0                0  \n",
       "627         1       0     1       1          1                1  \n",
       "1821        0       0     1       1          1                0  "
      ]
     },
     "execution_count": 13,
     "metadata": {},
     "output_type": "execute_result"
    }
   ],
   "source": [
    "X_test.head()"
   ]
  },
  {
   "cell_type": "code",
   "execution_count": null,
   "id": "d5330889-63a3-438a-a5d3-b41a48a67443",
   "metadata": {},
   "outputs": [],
   "source": []
  },
  {
   "cell_type": "code",
   "execution_count": 15,
   "id": "b1bca4e4-7953-4b5b-b104-e420056d749b",
   "metadata": {},
   "outputs": [
    {
     "data": {
      "text/html": [
       "<div>\n",
       "<style scoped>\n",
       "    .dataframe tbody tr th:only-of-type {\n",
       "        vertical-align: middle;\n",
       "    }\n",
       "\n",
       "    .dataframe tbody tr th {\n",
       "        vertical-align: top;\n",
       "    }\n",
       "\n",
       "    .dataframe thead th {\n",
       "        text-align: right;\n",
       "    }\n",
       "</style>\n",
       "<table border=\"1\" class=\"dataframe\">\n",
       "  <thead>\n",
       "    <tr style=\"text-align: right;\">\n",
       "      <th></th>\n",
       "      <th>Links</th>\n",
       "      <th>Dears</th>\n",
       "      <th>Account</th>\n",
       "      <th>HTML</th>\n",
       "      <th>Secure</th>\n",
       "      <th>Login</th>\n",
       "      <th>Protect</th>\n",
       "      <th>Verify</th>\n",
       "      <th>Click</th>\n",
       "      <th>Suspend</th>\n",
       "      <th>Images</th>\n",
       "      <th>Bank</th>\n",
       "      <th>Please</th>\n",
       "      <th>Thank You</th>\n",
       "      <th>Ebay and Paypal</th>\n",
       "    </tr>\n",
       "  </thead>\n",
       "  <tbody>\n",
       "    <tr>\n",
       "      <th>3563</th>\n",
       "      <td>-0.440672</td>\n",
       "      <td>0</td>\n",
       "      <td>0</td>\n",
       "      <td>-0.497285</td>\n",
       "      <td>0</td>\n",
       "      <td>0</td>\n",
       "      <td>0</td>\n",
       "      <td>0</td>\n",
       "      <td>0</td>\n",
       "      <td>0</td>\n",
       "      <td>-0.349512</td>\n",
       "      <td>0</td>\n",
       "      <td>0</td>\n",
       "      <td>0</td>\n",
       "      <td>0</td>\n",
       "    </tr>\n",
       "    <tr>\n",
       "      <th>2747</th>\n",
       "      <td>-0.440672</td>\n",
       "      <td>1</td>\n",
       "      <td>0</td>\n",
       "      <td>-0.511452</td>\n",
       "      <td>0</td>\n",
       "      <td>0</td>\n",
       "      <td>0</td>\n",
       "      <td>0</td>\n",
       "      <td>0</td>\n",
       "      <td>0</td>\n",
       "      <td>-0.349512</td>\n",
       "      <td>1</td>\n",
       "      <td>1</td>\n",
       "      <td>0</td>\n",
       "      <td>0</td>\n",
       "    </tr>\n",
       "    <tr>\n",
       "      <th>2224</th>\n",
       "      <td>1.182209</td>\n",
       "      <td>1</td>\n",
       "      <td>1</td>\n",
       "      <td>2.817871</td>\n",
       "      <td>1</td>\n",
       "      <td>1</td>\n",
       "      <td>1</td>\n",
       "      <td>0</td>\n",
       "      <td>1</td>\n",
       "      <td>0</td>\n",
       "      <td>6.424146</td>\n",
       "      <td>1</td>\n",
       "      <td>0</td>\n",
       "      <td>1</td>\n",
       "      <td>1</td>\n",
       "    </tr>\n",
       "    <tr>\n",
       "      <th>71</th>\n",
       "      <td>-0.170192</td>\n",
       "      <td>1</td>\n",
       "      <td>1</td>\n",
       "      <td>-0.114767</td>\n",
       "      <td>1</td>\n",
       "      <td>0</td>\n",
       "      <td>0</td>\n",
       "      <td>0</td>\n",
       "      <td>1</td>\n",
       "      <td>0</td>\n",
       "      <td>-0.224074</td>\n",
       "      <td>1</td>\n",
       "      <td>1</td>\n",
       "      <td>1</td>\n",
       "      <td>0</td>\n",
       "    </tr>\n",
       "    <tr>\n",
       "      <th>3476</th>\n",
       "      <td>-0.440672</td>\n",
       "      <td>0</td>\n",
       "      <td>0</td>\n",
       "      <td>-0.511452</td>\n",
       "      <td>0</td>\n",
       "      <td>0</td>\n",
       "      <td>0</td>\n",
       "      <td>0</td>\n",
       "      <td>0</td>\n",
       "      <td>0</td>\n",
       "      <td>-0.349512</td>\n",
       "      <td>0</td>\n",
       "      <td>0</td>\n",
       "      <td>0</td>\n",
       "      <td>0</td>\n",
       "    </tr>\n",
       "  </tbody>\n",
       "</table>\n",
       "</div>"
      ],
      "text/plain": [
       "         Links  Dears  Account      HTML  Secure  Login  Protect  Verify  \\\n",
       "3563 -0.440672      0        0 -0.497285       0      0        0       0   \n",
       "2747 -0.440672      1        0 -0.511452       0      0        0       0   \n",
       "2224  1.182209      1        1  2.817871       1      1        1       0   \n",
       "71   -0.170192      1        1 -0.114767       1      0        0       0   \n",
       "3476 -0.440672      0        0 -0.511452       0      0        0       0   \n",
       "\n",
       "      Click  Suspend    Images  Bank  Please  Thank You  Ebay and Paypal  \n",
       "3563      0        0 -0.349512     0       0          0                0  \n",
       "2747      0        0 -0.349512     1       1          0                0  \n",
       "2224      1        0  6.424146     1       0          1                1  \n",
       "71        1        0 -0.224074     1       1          1                0  \n",
       "3476      0        0 -0.349512     0       0          0                0  "
      ]
     },
     "execution_count": 15,
     "metadata": {},
     "output_type": "execute_result"
    }
   ],
   "source": [
    "X_train.head()"
   ]
  },
  {
   "cell_type": "code",
   "execution_count": 16,
   "id": "008c1018-80d4-47df-95e8-57154a012a4b",
   "metadata": {},
   "outputs": [
    {
     "data": {
      "text/html": [
       "<div>\n",
       "<style scoped>\n",
       "    .dataframe tbody tr th:only-of-type {\n",
       "        vertical-align: middle;\n",
       "    }\n",
       "\n",
       "    .dataframe tbody tr th {\n",
       "        vertical-align: top;\n",
       "    }\n",
       "\n",
       "    .dataframe thead th {\n",
       "        text-align: right;\n",
       "    }\n",
       "</style>\n",
       "<table border=\"1\" class=\"dataframe\">\n",
       "  <thead>\n",
       "    <tr style=\"text-align: right;\">\n",
       "      <th></th>\n",
       "      <th>Links</th>\n",
       "      <th>Dears</th>\n",
       "      <th>Account</th>\n",
       "      <th>HTML</th>\n",
       "      <th>Secure</th>\n",
       "      <th>Login</th>\n",
       "      <th>Protect</th>\n",
       "      <th>Verify</th>\n",
       "      <th>Click</th>\n",
       "      <th>Suspend</th>\n",
       "      <th>Images</th>\n",
       "      <th>Bank</th>\n",
       "      <th>Please</th>\n",
       "      <th>Thank You</th>\n",
       "      <th>Ebay and Paypal</th>\n",
       "    </tr>\n",
       "  </thead>\n",
       "  <tbody>\n",
       "    <tr>\n",
       "      <th>839</th>\n",
       "      <td>-0.440672</td>\n",
       "      <td>0</td>\n",
       "      <td>0</td>\n",
       "      <td>-0.511452</td>\n",
       "      <td>0</td>\n",
       "      <td>0</td>\n",
       "      <td>0</td>\n",
       "      <td>0</td>\n",
       "      <td>0</td>\n",
       "      <td>0</td>\n",
       "      <td>-0.349512</td>\n",
       "      <td>0</td>\n",
       "      <td>0</td>\n",
       "      <td>0</td>\n",
       "      <td>0</td>\n",
       "    </tr>\n",
       "    <tr>\n",
       "      <th>902</th>\n",
       "      <td>-0.170192</td>\n",
       "      <td>1</td>\n",
       "      <td>1</td>\n",
       "      <td>-0.256440</td>\n",
       "      <td>1</td>\n",
       "      <td>1</td>\n",
       "      <td>0</td>\n",
       "      <td>0</td>\n",
       "      <td>1</td>\n",
       "      <td>0</td>\n",
       "      <td>-0.224074</td>\n",
       "      <td>1</td>\n",
       "      <td>1</td>\n",
       "      <td>1</td>\n",
       "      <td>0</td>\n",
       "    </tr>\n",
       "    <tr>\n",
       "      <th>4439</th>\n",
       "      <td>-0.440672</td>\n",
       "      <td>0</td>\n",
       "      <td>0</td>\n",
       "      <td>-0.511452</td>\n",
       "      <td>0</td>\n",
       "      <td>0</td>\n",
       "      <td>0</td>\n",
       "      <td>0</td>\n",
       "      <td>0</td>\n",
       "      <td>0</td>\n",
       "      <td>-0.349512</td>\n",
       "      <td>0</td>\n",
       "      <td>0</td>\n",
       "      <td>0</td>\n",
       "      <td>0</td>\n",
       "    </tr>\n",
       "    <tr>\n",
       "      <th>627</th>\n",
       "      <td>-0.170192</td>\n",
       "      <td>0</td>\n",
       "      <td>1</td>\n",
       "      <td>0.140245</td>\n",
       "      <td>1</td>\n",
       "      <td>1</td>\n",
       "      <td>0</td>\n",
       "      <td>0</td>\n",
       "      <td>0</td>\n",
       "      <td>1</td>\n",
       "      <td>-0.349512</td>\n",
       "      <td>1</td>\n",
       "      <td>1</td>\n",
       "      <td>1</td>\n",
       "      <td>1</td>\n",
       "    </tr>\n",
       "    <tr>\n",
       "      <th>1821</th>\n",
       "      <td>-0.170192</td>\n",
       "      <td>1</td>\n",
       "      <td>0</td>\n",
       "      <td>-0.001428</td>\n",
       "      <td>0</td>\n",
       "      <td>0</td>\n",
       "      <td>0</td>\n",
       "      <td>0</td>\n",
       "      <td>1</td>\n",
       "      <td>0</td>\n",
       "      <td>-0.349512</td>\n",
       "      <td>1</td>\n",
       "      <td>1</td>\n",
       "      <td>1</td>\n",
       "      <td>0</td>\n",
       "    </tr>\n",
       "  </tbody>\n",
       "</table>\n",
       "</div>"
      ],
      "text/plain": [
       "         Links  Dears  Account      HTML  Secure  Login  Protect  Verify  \\\n",
       "839  -0.440672      0        0 -0.511452       0      0        0       0   \n",
       "902  -0.170192      1        1 -0.256440       1      1        0       0   \n",
       "4439 -0.440672      0        0 -0.511452       0      0        0       0   \n",
       "627  -0.170192      0        1  0.140245       1      1        0       0   \n",
       "1821 -0.170192      1        0 -0.001428       0      0        0       0   \n",
       "\n",
       "      Click  Suspend    Images  Bank  Please  Thank You  Ebay and Paypal  \n",
       "839       0        0 -0.349512     0       0          0                0  \n",
       "902       1        0 -0.224074     1       1          1                0  \n",
       "4439      0        0 -0.349512     0       0          0                0  \n",
       "627       0        1 -0.349512     1       1          1                1  \n",
       "1821      1        0 -0.349512     1       1          1                0  "
      ]
     },
     "execution_count": 16,
     "metadata": {},
     "output_type": "execute_result"
    }
   ],
   "source": [
    "X_test.head()"
   ]
  },
  {
   "cell_type": "code",
   "execution_count": null,
   "id": "ad71cc2d-1a08-4eff-bb4f-aebab79b4a47",
   "metadata": {},
   "outputs": [],
   "source": []
  },
  {
   "cell_type": "code",
   "execution_count": 17,
   "id": "a8bc99c1-d23f-43a5-9911-72ac5b2def11",
   "metadata": {},
   "outputs": [
    {
     "data": {
      "text/plain": [
       "SVC()"
      ]
     },
     "execution_count": 17,
     "metadata": {},
     "output_type": "execute_result"
    }
   ],
   "source": [
    "svc = SVC()\n",
    "svc.fit(X_train, y_train)"
   ]
  },
  {
   "cell_type": "code",
   "execution_count": 18,
   "id": "a742367a-101e-4332-8e31-dcb2737c87ed",
   "metadata": {},
   "outputs": [
    {
     "data": {
      "text/plain": [
       "0.9225130890052357"
      ]
     },
     "execution_count": 18,
     "metadata": {},
     "output_type": "execute_result"
    }
   ],
   "source": [
    "svc.score(X_test, y_test)"
   ]
  },
  {
   "cell_type": "code",
   "execution_count": 194,
   "id": "78c16ed2-3406-4cb6-b58f-acef40af9941",
   "metadata": {},
   "outputs": [
    {
     "name": "stdout",
     "output_type": "stream",
     "text": [
      "Fitting 5 folds for each of 48 candidates, totalling 240 fits\n"
     ]
    },
    {
     "data": {
      "text/plain": [
       "(SVC(C=3, gamma=3, probability=True), 0.9277486910994764)"
      ]
     },
     "execution_count": 194,
     "metadata": {},
     "output_type": "execute_result"
    }
   ],
   "source": [
    "param = [\n",
    "    {\n",
    "        'kernel': ['rbf'], \n",
    "        'C': [0.1, 0.3, 1, 2, 3, 4], \n",
    "        'gamma': [0.3, 1, 3, 10, 12, 15, 25, 28]\n",
    "    }, \n",
    "]\n",
    "\n",
    "svc = SVC(probability = True)\n",
    "gs_svc = GridSearchCV(svc, param, cv = 5, n_jobs = -1, verbose = 1)\n",
    "gs_svc.fit(X_train, y_train)\n",
    "svc_best = gs_svc.best_estimator_\n",
    "gs_svc.best_estimator_, gs_svc.score(X_test, y_test)"
   ]
  },
  {
   "cell_type": "code",
   "execution_count": 195,
   "id": "8f9cee0c-b31c-4065-8445-bd722da89a07",
   "metadata": {},
   "outputs": [
    {
     "name": "stdout",
     "output_type": "stream",
     "text": [
      "Fitting 5 folds for each of 160 candidates, totalling 800 fits\n"
     ]
    },
    {
     "data": {
      "text/plain": [
       "({'learning_rate': 0.2, 'max_depth': 6, 'n_estimators': 36},\n",
       " 0.9235602094240838)"
      ]
     },
     "execution_count": 195,
     "metadata": {},
     "output_type": "execute_result"
    }
   ],
   "source": [
    "param_grid={\n",
    "    'max_depth': range(2, 10, 2),\n",
    "    'n_estimators': range(26, 46, 2),\n",
    "    'learning_rate': [0.2, 0.1, 0.03, 0.01]\n",
    "}\n",
    "\n",
    "xg = XGBClassifier(eval_metric='logloss', n_jobs = -1, tree_method = 'gpu_hist', use_label_encoder = False)\n",
    "gs_xg = GridSearchCV(xg, param_grid, cv = 5, n_jobs = -1, verbose = 1)\n",
    "gs_xg.fit(X_train, y_train)\n",
    "\n",
    "xg_best = gs_xg.best_estimator_\n",
    "gs_xg.best_params_, gs_xg.score(X_test, y_test)"
   ]
  },
  {
   "cell_type": "code",
   "execution_count": 196,
   "id": "c584ea21-4acd-4d6d-ae4a-c116361f40d7",
   "metadata": {},
   "outputs": [
    {
     "name": "stdout",
     "output_type": "stream",
     "text": [
      "Fitting 5 folds for each of 120 candidates, totalling 600 fits\n"
     ]
    },
    {
     "data": {
      "text/plain": [
       "(GradientBoostingClassifier(max_depth=8, max_leaf_nodes=16, n_estimators=28),\n",
       " 0.9246073298429319)"
      ]
     },
     "execution_count": 196,
     "metadata": {},
     "output_type": "execute_result"
    }
   ],
   "source": [
    "param = [\n",
    "    {'n_estimators': range(12, 36, 4), \n",
    "     'max_depth': range(8, 24, 4),\n",
    "     'max_leaf_nodes': range(8, 28, 4),\n",
    "    }\n",
    "]\n",
    "\n",
    "gb = GradientBoostingClassifier()\n",
    "gs_gb = GridSearchCV(gb, param, cv = 5, n_jobs = -1, verbose = 1)\n",
    "gs_gb.fit(X_train, y_train)\n",
    "\n",
    "\n",
    "gb_best = gs_gb.best_estimator_\n",
    "gs_gb.best_estimator_, gs_gb.score(X_test, y_test)"
   ]
  },
  {
   "cell_type": "code",
   "execution_count": 197,
   "id": "b17c6472-a2cf-419e-88c6-e2281404c575",
   "metadata": {},
   "outputs": [
    {
     "name": "stdout",
     "output_type": "stream",
     "text": [
      "Fitting 5 folds for each of 108 candidates, totalling 540 fits\n"
     ]
    },
    {
     "data": {
      "text/plain": [
       "(RandomForestClassifier(max_depth=8, max_leaf_nodes=25), 0.9246073298429319)"
      ]
     },
     "execution_count": 197,
     "metadata": {},
     "output_type": "execute_result"
    }
   ],
   "source": [
    "param = [\n",
    "    {'n_estimators': [100, 200, 300, 400, 450, 500], \n",
    "     'max_depth': [3, 4, 6, 8, 10, 12], \n",
    "     'max_leaf_nodes': [15, 20, 25]}, \n",
    "]\n",
    "\n",
    "rf = RandomForestClassifier()\n",
    "gs_rf = GridSearchCV(rf, param, cv = 5, n_jobs = -1, verbose = 1)\n",
    "gs_rf.fit(X_train, y_train)\n",
    "\n",
    "rf_best = gs_rf.best_estimator_\n",
    "gs_rf.best_estimator_, gs_rf.score(X_test, y_test)"
   ]
  },
  {
   "cell_type": "code",
   "execution_count": 198,
   "id": "600d8d7a-bda2-40b3-a5ce-192c879391f4",
   "metadata": {},
   "outputs": [
    {
     "name": "stdout",
     "output_type": "stream",
     "text": [
      "Fitting 5 folds for each of 192 candidates, totalling 960 fits\n"
     ]
    },
    {
     "data": {
      "text/plain": [
       "(DecisionTreeClassifier(criterion='entropy', max_depth=10, max_leaf_nodes=28),\n",
       " 0.9256544502617801)"
      ]
     },
     "execution_count": 198,
     "metadata": {},
     "output_type": "execute_result"
    }
   ],
   "source": [
    "param = [\n",
    "    {\n",
    "        'criterion': ['gini', 'entropy'],\n",
    "        'max_depth': range(4, 20, 2),\n",
    "        'max_leaf_nodes': range(20, 44, 2),\n",
    "    }\n",
    "]\n",
    "\n",
    "dt = DecisionTreeClassifier()\n",
    "gs_dt = GridSearchCV(dt, param, cv = 5, n_jobs = -1, verbose = 1)\n",
    "gs_dt.fit(X_train, y_train)\n",
    "\n",
    "dt_best = gs_dt.best_estimator_\n",
    "gs_dt.best_estimator_,  gs_dt.score(X_test, y_test)"
   ]
  },
  {
   "cell_type": "code",
   "execution_count": 199,
   "id": "e71978f1-42c6-42a4-ac40-8fc517b59f17",
   "metadata": {},
   "outputs": [
    {
     "name": "stdout",
     "output_type": "stream",
     "text": [
      "Fitting 5 folds for each of 6 candidates, totalling 30 fits\n"
     ]
    },
    {
     "data": {
      "text/plain": [
       "(AdaBoostClassifier(n_estimators=200), 0.9193717277486911)"
      ]
     },
     "execution_count": 199,
     "metadata": {},
     "output_type": "execute_result"
    }
   ],
   "source": [
    "param = [\n",
    "    {'n_estimators': [50, 100, 150, 200, 300, 400]}\n",
    "]\n",
    "ada = AdaBoostClassifier()\n",
    "gs_ada = GridSearchCV(ada, param, cv = 5, n_jobs = -1, verbose = 1)\n",
    "gs_ada.fit(X_train, y_train)\n",
    "\n",
    "ada_best = gs_ada.best_estimator_\n",
    "gs_ada.best_estimator_, gs_ada.score(X_test, y_test)\n"
   ]
  },
  {
   "cell_type": "code",
   "execution_count": 49,
   "id": "7e382501-1054-49cd-a3a8-7808b2d4c8c9",
   "metadata": {},
   "outputs": [
    {
     "data": {
      "text/plain": [
       "Links              0.051180\n",
       "Dears              0.166835\n",
       "Account            0.150790\n",
       "HTML               0.039054\n",
       "Secure             0.020681\n",
       "Login              0.012907\n",
       "Verify             0.002116\n",
       "Click              0.025239\n",
       "Suspend            0.001902\n",
       "Images             0.021124\n",
       "Bank               0.023387\n",
       "Please             0.245094\n",
       "Thank You          0.151359\n",
       "Ebay and Paypal    0.088333\n",
       "dtype: float64"
      ]
     },
     "execution_count": 49,
     "metadata": {},
     "output_type": "execute_result"
    }
   ],
   "source": [
    "fi = pd.Series(et_best.feature_importances_, index = X_train.columns)\n",
    "fi"
   ]
  },
  {
   "cell_type": "code",
   "execution_count": 200,
   "id": "63d83226-7dd9-4470-93ad-5004a0077f8d",
   "metadata": {},
   "outputs": [
    {
     "data": {
      "text/plain": [
       "(KNeighborsClassifier(), 0.7476439790575916)"
      ]
     },
     "execution_count": 200,
     "metadata": {},
     "output_type": "execute_result"
    }
   ],
   "source": [
    "param = [\n",
    "    {'n_neighbors': range(2, 14, 1)}\n",
    "]\n",
    "\n",
    "knn = KNeighborsClassifier()\n",
    "gs_knn = GridSearchCV(knn, param, cv = 5, n_jobs = -1)\n",
    "gs_knn.fit(X_train, y_train)\n",
    "\n",
    "knn_best = gs_knn.best_estimator_\n",
    "gs_knn.best_estimator_, gs_knn.score(X_test, y_test)"
   ]
  },
  {
   "cell_type": "code",
   "execution_count": 28,
   "id": "7cc04b14-ba09-4a41-8c7e-8d998b58c78f",
   "metadata": {},
   "outputs": [
    {
     "data": {
      "text/plain": [
       "0.9225130890052357"
      ]
     },
     "execution_count": 28,
     "metadata": {},
     "output_type": "execute_result"
    }
   ],
   "source": [
    "gs_knn.score(X_test, y_test)"
   ]
  },
  {
   "cell_type": "code",
   "execution_count": null,
   "id": "8a10fa90-afae-4faf-9760-ac135664fb2d",
   "metadata": {},
   "outputs": [],
   "source": []
  },
  {
   "cell_type": "code",
   "execution_count": 201,
   "id": "3face24b-5f17-4112-829a-979749cba144",
   "metadata": {},
   "outputs": [
    {
     "data": {
      "text/plain": [
       "(VotingClassifier(estimators=[('rf',\n",
       "                               RandomForestClassifier(max_depth=8,\n",
       "                                                      max_leaf_nodes=25)),\n",
       "                              ('svc', SVC(C=3, gamma=3, probability=True)),\n",
       "                              ('lr', LogisticRegression(solver='sag')),\n",
       "                              ('mlp', MLPClassifier()),\n",
       "                              ('xgc',\n",
       "                               XGBClassifier(base_score=0.5, booster='gbtree',\n",
       "                                             colsample_bylevel=1,\n",
       "                                             colsample_bynode=1,\n",
       "                                             colsample_bytree=1,\n",
       "                                             enable_categorical=False,\n",
       "                                             eval_metric='loglo...\n",
       "                                             use_label_encoder=False,\n",
       "                                             validate_parameters=1,\n",
       "                                             verbosity=None)),\n",
       "                              ('knn', KNeighborsClassifier()),\n",
       "                              ('ET',\n",
       "                               ExtraTreesClassifier(max_depth=16,\n",
       "                                                    max_leaf_nodes=44,\n",
       "                                                    n_estimators=40)),\n",
       "                              ('dt',\n",
       "                               DecisionTreeClassifier(criterion='entropy',\n",
       "                                                      max_depth=10,\n",
       "                                                      max_leaf_nodes=28)),\n",
       "                              ('gb',\n",
       "                               GradientBoostingClassifier(max_depth=8,\n",
       "                                                          max_leaf_nodes=16,\n",
       "                                                          n_estimators=28))],\n",
       "                  n_jobs=-1, verbose=1, voting='soft'),\n",
       " 0.9277486910994764)"
      ]
     },
     "execution_count": 201,
     "metadata": {},
     "output_type": "execute_result"
    }
   ],
   "source": [
    "vc_lr = LogisticRegression(solver = 'sag')\n",
    "vc_mlp = MLPClassifier()\n",
    "\n",
    "vc = VotingClassifier(estimators = [('rf', rf_best), ('svc', svc_best), ('lr', vc_lr), \n",
    "                                    ('mlp', vc_mlp), ('xgc', xg_best), ('knn', knn_best), \n",
    "                                    ('ET', et_best), ('dt', dt_best),\n",
    "                                    ('gb', gb_best)], \n",
    "                                    voting = 'soft', n_jobs = -1, verbose = 1)\n",
    "vc.fit(X_train, y_train), vc.score(X_test, y_test)"
   ]
  },
  {
   "cell_type": "code",
   "execution_count": 202,
   "id": "349dceb3-0215-4864-bea1-701674a63647",
   "metadata": {},
   "outputs": [
    {
     "data": {
      "text/plain": [
       "0.9277486910994764"
      ]
     },
     "execution_count": 202,
     "metadata": {},
     "output_type": "execute_result"
    }
   ],
   "source": [
    "vc.score(X_test, y_test)"
   ]
  },
  {
   "cell_type": "code",
   "execution_count": 191,
   "id": "096a8e09-ab08-4769-a777-bb7c790e0415",
   "metadata": {},
   "outputs": [
    {
     "data": {
      "image/png": "[encoded data removed]",
      "text/plain": [
       "<Figure size 432x288 with 2 Axes>"
      ]
     },
     "metadata": {
      "needs_background": "light"
     },
     "output_type": "display_data"
    }
   ],
   "source": [
    "pred = gs_et.predict(X_test)\n",
    "cm = confusion_matrix(y_test, pred)\n",
    "sns.heatmap(cm, annot = True, fmt = 'g');\n",
    "plt.savefig('Confusion Matrix')"
   ]
  },
  {
   "cell_type": "code",
   "execution_count": 203,
   "id": "b87a8cea-cee7-470f-923b-d5e21c5f0f26",
   "metadata": {},
   "outputs": [
    {
     "name": "stdout",
     "output_type": "stream",
     "text": [
      "              precision    recall  f1-score   support\n",
      "\n",
      "           0       0.88      1.00      0.94       510\n",
      "           1       1.00      0.85      0.92       445\n",
      "\n",
      "    accuracy                           0.93       955\n",
      "   macro avg       0.94      0.92      0.93       955\n",
      "weighted avg       0.94      0.93      0.93       955\n",
      "\n"
     ]
    }
   ],
   "source": [
    "print(classification_report(y_test, pred))"
   ]
  },
  {
   "cell_type": "code",
   "execution_count": 205,
   "id": "19a5daeb-f999-4c62-9e66-0756ff7277c4",
   "metadata": {},
   "outputs": [
    {
     "name": "stdout",
     "output_type": "stream",
     "text": [
      "Accuracies: \n",
      "SVC - 0.9277486910994764\n",
      "RandomForest - 0.9246073298429319\n",
      "XGBoost - 0.9235602094240838\n",
      "Gradient Boost - 0.9246073298429319\n",
      "AdaBoost - 0.9193717277486911\n",
      "Decision Tree - 0.9256544502617801\n",
      "Extra Trees - 0.9298429319371728\n",
      "KNN - 0.7476439790575916\n",
      "Voting Classifier - 0.9277486910994764\n"
     ]
    },
    {
     "data": {
      "image/png": "[encoded data removed]",
      "text/plain": [
       "<Figure size 432x288 with 2 Axes>"
      ]
     },
     "metadata": {
      "needs_background": "light"
     },
     "output_type": "display_data"
    },
    {
     "name": "stdout",
     "output_type": "stream",
     "text": [
      "              precision    recall  f1-score   support\n",
      "\n",
      "           0       0.88      1.00      0.94       510\n",
      "           1       1.00      0.85      0.92       445\n",
      "\n",
      "    accuracy                           0.93       955\n",
      "   macro avg       0.94      0.92      0.93       955\n",
      "weighted avg       0.94      0.93      0.93       955\n",
      "\n",
      "Important Features:\n",
      "Links              0.051180\n",
      "Dears              0.166835\n",
      "Account            0.150790\n",
      "HTML               0.039054\n",
      "Secure             0.020681\n",
      "Login              0.012907\n",
      "Verify             0.002116\n",
      "Click              0.025239\n",
      "Suspend            0.001902\n",
      "Images             0.021124\n",
      "Bank               0.023387\n",
      "Please             0.245094\n",
      "Thank You          0.151359\n",
      "Ebay and Paypal    0.088333\n",
      "dtype: float64\n"
     ]
    },
    {
     "data": {
      "image/png": "[encoded data removed]",
      "text/plain": [
       "<Figure size 576x432 with 1 Axes>"
      ]
     },
     "metadata": {
      "needs_background": "light"
     },
     "output_type": "display_data"
    },
    {
     "data": {
      "text/plain": [
       "<Figure size 432x288 with 0 Axes>"
      ]
     },
     "metadata": {},
     "output_type": "display_data"
    }
   ],
   "source": [
    "models = ['SVC', 'RandomForest', 'XGBoost', 'Gradient Boost', 'AdaBoost', 'Decision Tree', 'Extra Trees', 'KNN', 'Voting Classifier']\n",
    "acc = [svc_best.score(X_test, y_test), \n",
    "       rf_best.score(X_test, y_test), \n",
    "       xg_best.score(X_test, y_test), \n",
    "       gb_best.score(X_test, y_test), \n",
    "       ada_best.score(X_test, y_test), \n",
    "       dt_best.score(X_test, y_test), \n",
    "       et_best.score(X_test, y_test), \n",
    "       knn_best.score(X_test, y_test), \n",
    "       vc.score(X_test, y_test)]\n",
    "\n",
    "# Printing the accuracies of all the individual models\n",
    "print('Accuracies: ')\n",
    "for i in range(len(models)):\n",
    "    print(models[i], '-', acc[i])\n",
    "\n",
    "pred = gs_et.predict(X_test)\n",
    "\n",
    "# Calculating and plotting the confusion matrix for voting classifier predictions\n",
    "cm = confusion_matrix(y_test, pred)\n",
    "sns.heatmap(cm, annot = True, fmt = 'g');\n",
    "plt.show()\n",
    "\n",
    "# Printing the classification report\n",
    "print(classification_report(y_test, pred))\n",
    "\n",
    "\n",
    "print('Important Features:')\n",
    "print(fi)\n",
    "\n",
    "p = {}\n",
    "for i in range(len(models)):\n",
    "    p[models[i]] = acc[i]\n",
    "\n",
    "# Plotting the accuracy comparison chart\n",
    "p = dict(sorted(p.items(), key = lambda x: x[1], reverse = True))\n",
    "plt.figure(figsize = (8, 6))\n",
    "plt.xlabel('Accuracy')\n",
    "sns.barplot(x = list(p.values()), y = list(p.keys()), orient = 'h');\n",
    "plt.show()\n",
    "plt.savefig('Accuracy Comparison')\n"
   ]
  },
  {
   "cell_type": "code",
   "execution_count": 208,
   "id": "00db555f-337b-4ebb-9f5e-385b8a1e3808",
   "metadata": {},
   "outputs": [
    {
     "data": {
      "image/png": "[encoded data removed]",
      "text/plain": [
       "<Figure size 576x432 with 1 Axes>"
      ]
     },
     "metadata": {
      "needs_background": "light"
     },
     "output_type": "display_data"
    }
   ],
   "source": [
    "p = dict(sorted(p.items(), key = lambda x: x[1], reverse = True))\n",
    "plt.figure(figsize = (8, 6))\n",
    "plt.xlabel('Accuracy')\n",
    "sns.barplot(x = list(p.values()), y = list(p.keys()), orient = 'h');\n",
    "plt.savefig('Accuracy Comparison', dpi = 120)\n"
   ]
  }
 ],
 "metadata": {
  "kernelspec": {
   "display_name": "Python 3 (ipykernel)",
   "language": "python",
   "name": "python3"
  },
  "language_info": {
   "codemirror_mode": {
    "name": "ipython",
    "version": 3
   },
   "file_extension": ".py",
   "mimetype": "text/x-python",
   "name": "python",
   "nbconvert_exporter": "python",
   "pygments_lexer": "ipython3",
   "version": "3.9.4"
  }
 },
 "nbformat": 4,
 "nbformat_minor": 5
}
