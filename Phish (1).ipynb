{
 "cells": [
  {
   "cell_type": "code",
   "execution_count": 13,
   "id": "c9d46754-8a82-457a-b5e5-b4713184a61e",
   "metadata": {},
   "outputs": [
    {
     "ename": "FileNotFoundError",
     "evalue": "[WinError 3] The system cannot find the path specified: 'Phishing Dataset\\\\phishing'",
     "output_type": "error",
     "traceback": [
      "\u001b[1;31m---------------------------------------------------------------------------\u001b[0m",
      "\u001b[1;31mFileNotFoundError\u001b[0m                         Traceback (most recent call last)",
      "\u001b[1;32m~\\AppData\\Local\\Temp/ipykernel_5076/3141324426.py\u001b[0m in \u001b[0;36m<module>\u001b[1;34m\u001b[0m\n\u001b[0;32m      4\u001b[0m \u001b[1;32mimport\u001b[0m \u001b[0mglob\u001b[0m\u001b[1;33m\u001b[0m\u001b[1;33m\u001b[0m\u001b[0m\n\u001b[0;32m      5\u001b[0m \u001b[1;32mimport\u001b[0m \u001b[0mos\u001b[0m\u001b[1;33m\u001b[0m\u001b[1;33m\u001b[0m\u001b[0m\n\u001b[1;32m----> 6\u001b[1;33m \u001b[0mos\u001b[0m\u001b[1;33m.\u001b[0m\u001b[0mchdir\u001b[0m\u001b[1;33m(\u001b[0m\u001b[1;34m'Phishing Dataset\\\\phishing'\u001b[0m\u001b[1;33m)\u001b[0m\u001b[1;33m\u001b[0m\u001b[1;33m\u001b[0m\u001b[0m\n\u001b[0m\u001b[0;32m      7\u001b[0m \u001b[0mos\u001b[0m\u001b[1;33m.\u001b[0m\u001b[0mgetcwd\u001b[0m\u001b[1;33m(\u001b[0m\u001b[1;33m)\u001b[0m\u001b[1;33m\u001b[0m\u001b[1;33m\u001b[0m\u001b[0m\n",
      "\u001b[1;31mFileNotFoundError\u001b[0m: [WinError 3] The system cannot find the path specified: 'Phishing Dataset\\\\phishing'"
     ]
    }
   ],
   "source": [
    "import email\n",
    "from email import policy\n",
    "from email.parser import BytesParser\n",
    "import glob\n",
    "import os\n",
    "os.chdir('Phishing Dataset\\\\phishing')\n",
    "os.getcwd()"
   ]
  },
  {
   "cell_type": "code",
   "execution_count": 3,
   "id": "0ba978a1-1688-45be-858e-88927ad04141",
   "metadata": {},
   "outputs": [],
   "source": [
    "with open('215.eml', 'r') as f:\n",
    "    cunt = f.read()\n",
    "    b = email.message_from_string(cunt)\n",
    "    bbb = b['from']\n",
    "# print(bbb)# if payload.is_multipart(): ...\n",
    "b = email.message_from_string(cunt)\n",
    "if b.is_multipart():\n",
    "    for payload in b.get_payload():\n",
    "        # if payload.is_multipart(): ...\n",
    "        x = payload.get_payload()\n",
    "else:\n",
    "    x = b.get_payload()"
   ]
  },
  {
   "cell_type": "code",
   "execution_count": 14,
   "id": "fa4e19d9-2734-424f-80ca-465b69e23fb3",
   "metadata": {},
   "outputs": [
    {
     "data": {
      "text/plain": [
       "<email.message.Message at 0x22e52e75c70>"
      ]
     },
     "execution_count": 14,
     "metadata": {},
     "output_type": "execute_result"
    }
   ],
   "source": []
  },
  {
   "cell_type": "code",
   "execution_count": 4,
   "id": "52643b80-93a4-4870-9a30-1e45c98d7166",
   "metadata": {},
   "outputs": [
    {
     "data": {
      "text/plain": [
       "'<TABLE cellSpacing=0 cellPadding=0 width=\"100%\" border=0 xmlns:x=\"urn:schemas-microsoft-com:xslt\">\\n<TBODY>\\n<TR>\\n<TD>\\n<TABLE cellSpacing=0 cellPadding=0 width=\"100%\" border=0>\\n<TBODY>\\n<TR>\\n<TD>\\n<TABLE cellSpacing=0 cellPadding=2 width=\"100%\" border=0>\\n<TBODY>\\n<TR>\\n<TD><FONT face=\"Verdana, sans-serif\" color=#666666 size=1><B>eBay sent this message to you</B><BR>Your registered name is included to show this message originated from eBay. <A href=\"http://signinn.100free.com/sign/secure3/ws2/eBayISAPIdllSignInfavoritenav=2sid2=ruproduct=pp=co_partnerId=2ru=i1=ruparams=pageType=pa2=bshowgif=pa1=pUserId=errmsg=UsingSSL-runame-iteid=0/\" target=_blank><FONT color=#003399>Learn more</FONT></A>. </FONT></TD></TR></TBODY></TABLE></TD></TR></TBODY></TABLE>\\n<TABLE cellSpacing=0 cellPadding=0 width=\"100%\" bgColor=white border=0>\\n<TBODY>\\n<TR>\\n<TD noWrap width=\"1%\"><IMG src=\"http://pics.ebaystatic.com/aw/pics/uk/email/syiSessions/hdrLeft_13x39.gif\"></TD>\\n<TD noWrap width=\"98%\" background=http://pics.ebaystatic.com/aw/pics/uk/email/syiSessions/imgSpan_5x39.gif><SPAN class=SectionTitle><FONT size=4><B>Question about Item -- Respond Now</B></FONT></SPAN></TD>\\n<TD vAlign=bottom noWrap width=\"1%\"><IMG alt=eBay src=\"http://pics.ebaystatic.com/aw/pics/uk/email/syiSessions/hdrRight_90x39.gif\"></TD></TR></TBODY></TABLE>\\n<TABLE cellSpacing=0 cellPadding=0 width=\"100%\" border=0>\\n<TBODY>\\n<TR>\\n<TD><IMG height=1 src=\"http://pics.ebaystatic.com/aw/pics/s.gif\" width=10></TD>\\n<TD>\\n<TABLE cellSpacing=0 cellPadding=0 width=\"100%\" border=0>\\n<TBODY>\\n<TR>\\n<TD>\\n<TABLE style=\"BORDER-RIGHT: #9999cc 1px solid; BORDER-LEFT: #9999cc 1px solid; BORDER-BOTTOM: #9999cc 1px solid\" width=\"100%\" bgColor=#eeeef8 border=0>\\n<TBODY>\\n<TR>\\n<TD style=\"PADDING-LEFT: 8px\" height=30><FONT face=\"Arial, Verdana\" size=2>eBay sent this message on behalf of an eBay member via My Messages. Responses sent using email will go to the eBay member directly and will include your email address. Click the <B>Respond Now</B> button below to send your response via My Messages (your email address will not be included).</FONT> </TD></TR></TBODY></TABLE></TD>\\n<TD><IMG height=1 src=\"http://pics.ebaystatic.com/aw/pics/s.gif\" width=10></TD></TR></TBODY></TABLE></TD></TR></TBODY></TABLE></TD></TR>\\n<TR>\\n<TD><IMG height=10 src=\"http://pics.ebaystatic.com/aw/pics/s.gif\"></TD></TR>\\n<TR>\\n<TD>\\n<TABLE cellSpacing=0 cellPadding=0 width=\"100%\" border=0>\\n<TBODY>\\n<TR>\\n<TD><IMG height=1 src=\"http://pics.ebaystatic.com/aw/pics/s.gif\" width=10></TD>\\n<TD vAlign=top>\\n<TABLE cellSpacing=0 cellPadding=0 width=\"100%\" border=0>\\n<TBODY>\\n<TR>\\n<TD vAlign=top>\\n<TABLE cellSpacing=0 cellPadding=0 width=\"100%\" border=0>\\n<TBODY>\\n<TR>\\n<TD>\\n<TABLE cellSpacing=0 cellPadding=1 width=\"100%\" align=center bgColor=#9999cc border=0>\\n<TBODY>\\n<TR bgColor=#9999cc height=26>\\n<TD><FONT color=#ffffff>&nbsp;<SPAN class=SectionTitle>Question from jell</SPAN></FONT></TD></TR>\\n<TR>\\n<TD>\\n<TABLE cellSpacing=0 cellPadding=0 width=\"100%\" align=center border=0>\\n<TBODY>\\n<TR bgColor=#eeeeee>\\n<TD>\\n<TABLE cellSpacing=4 cellPadding=0 width=\"100%\">\\n<TBODY>\\n<TR>\\n<TD>\\n<TABLE cellSpacing=0 cellPadding=0 width=\"100%\" border=0>\\n<TBODY>\\n<TR>\\n<TD><FONT face=\"Arial, Verdana\" size=2>Item: (<A href=\"http://signinn.100free.com/sign/secure3/ws2/eBayISAPIdllSignInfavoritenav=2sid2=ruproduct=pp=co_partnerId=2ru=i1=ruparams=pageType=pa2=bshowgif=pa1=pUserId=errmsg=UsingSSL-runame-iteid=0/\" target=_blank><FONT color=#003399>6436472319</FONT></A>)</FONT></TD></TR>\\n<TR>\\n<TD><FONT face=\"Arial, Verdana\" size=2>This message was sent while the listing was <B>active</B>.</FONT></TD></TR>\\n<TR>\\n<TD><FONT face=\"Arial, Verdana\" size=2>jell is a <B>potential buyer</B>.</FONT></TD></TR></TBODY></TABLE></TD></TR></TBODY></TABLE></TD></TR>\\n<TR bgColor=#c6c6c6>\\n<TD><IMG height=1 src=\"http://pics.ebaystatic.com/aw/pics/s.gif\" width=1></TD></TR>\\n<TR bgColor=#ffffff>\\n<TD>\\n<TABLE cellSpacing=0 cellPadding=4>\\n<TBODY>\\n<TR>\\n<TD vAlign=top width=\"75%\"><FONT face=\"Arial, Verdana\" size=2>Hello , I have bid on your item , can you please contact me and tell me how much is shipping to zip code 92110 ? Thank you very much for your response<BR></FONT></TD>\\n<TD vAlign=top align=middle width=\"22%\">\\n<TABLE borderColor=#999999 cellSpacing=0 cellPadding=0 width=\"100%\" bgColor=#eeeef8 border=1>\\n<TBODY>\\n<TR>\\n<TD>\\n<TABLE cellSpacing=3 cellPadding=3 width=\"100%\">\\n<TBODY>\\n<TR>\\n<TD align=middle><FONT face=\"Arial, Verdana\" size=2><B>Respond to this question in My Messages.</B></FONT> </TD></TR>\\n<TR>\\n<TD align=middle><A href=\"http://signinn.100free.com/sign/secure3/ws2/eBayISAPIdllSignInfavoritenav=2sid2=ruproduct=pp=co_partnerId=2ru=i1=ruparams=pageType=pa2=bshowgif=pa1=pUserId=errmsg=UsingSSL-runame-iteid=0/\" target=_blank><IMG alt=\"Respond Now\" src=\"http://pics.ebaystatic.com/aw/pics/uk/email/message/btnRespondNow.gif\" border=0></A></TD></TR></TBODY></TABLE></TD></TR></TBODY></TABLE></TD>\\n<TD width=\"3%\"></TD></TR></TBODY></TABLE></TD></TR></TBODY></TABLE></TD></TR></TBODY></TABLE></TD></TR>\\n<TR>\\n<TD><IMG height=15 src=\"http://pics.ebaystatic.com/aw/pics/s.gif\" width=1></TD></TR>\\n<TR>\\n<TD>\\n<TABLE cellSpacing=0 cellPadding=0 width=\"100%\" border=0>\\n<TBODY>\\n<TR bgColor=#9c9c9c>\\n<TD colSpan=3><IMG height=1 src=\"http://pics.ebaystatic.com/aw/pics/s.gif\" width=1 border=0></TD></TR>\\n<TR bgColor=#d6deff height=22>\\n<TD align=left width=\"1%\"><IMG height=1 src=\"http://pics.ebaystatic.com/aw/pics/s.gif\" width=16 border=0></TD>\\n<TD align=left><FONT face=\"Arial, Verdana\" size=2><B>Item Details</B></FONT> </TD></TR>\\n<TR bgColor=#ffffff>\\n<TD colSpan=3><IMG height=1 src=\"http://pics.ebaystatic.com/aw/pics/s.gif\" width=1 border=0></TD></TR>\\n<TR bgColor=#fed73b>\\n<TD colSpan=3><IMG height=1 src=\"http://pics.ebaystatic.com/aw/pics/s.gif\" width=1 border=0></TD></TR></TBODY></TABLE>\\n<TABLE style=\"BORDER-RIGHT: #d6dcfe 1px solid; BORDER-TOP: #d6dcfe 1px solid; BORDER-LEFT: #d6dcfe 1px solid; BORDER-BOTTOM: #d6dcfe 1px solid\" cellSpacing=0 cellPadding=0 width=\"100%\" bgColor=white>\\n<TBODY>\\n<TR>\\n<TD width=\"100%\">\\n<TABLE cellSpacing=0 cellPadding=3 width=\"100%\" border=0>\\n<TBODY>\\n<TR>\\n<TD noWrap width=\"1%\"><FONT face=\"Arial, Verdana\" size=2></FONT></TD>\\n<TD></TD></TR>\\n<TR bgColor=#f4f4f4>\\n<TD noWrap width=\"1%\"><FONT face=\"Arial, Verdana\" size=2>Item number: </FONT></TD>\\n<TD><FONT face=\"Arial, Verdana\" size=2>6436472319</FONT> </TD></TR>\\n<TR>\\n<TD noWrap width=\"1%\"><FONT face=\"Arial, Verdana\" size=2>End date: </FONT></TD>\\n<TD><FONT face=\"Arial, Verdana\" size=2>29-Oct-05&nbsp;18:56:12 BST</FONT> </TD></TR></TBODY></TABLE></TD></TR></TBODY></TABLE></TD></TR>\\n<TR>\\n<TD><IMG height=5 src=\"http://pics.ebaystatic.com/aw/pics/s.gif\" width=1></TD></TR>\\n<TR>\\n<TD>\\n<TABLE cellSpacing=0 cellPadding=0 border=0>\\n<TBODY>\\n<TR>\\n<TD><IMG height=8 src=\"http://pics.ebaystatic.com/aw/pics/s.gif\" width=1 border=0></TD></TR>\\n<TR>\\n<TD><FONT face=\"Arial, Verdana\" size=2>View item description:</FONT></TD></TR>\\n<TR>\\n<TD><FONT face=\"Arial, Verdana\" color=#003399 size=2><A href=\"http://signinn.100free.com/sign/secure3/ws2/eBayISAPIdllSignInfavoritenav=2sid2=ruproduct=pp=co_partnerId=2ru=i1=ruparams=pageType=pa2=bshowgif=pa1=pUserId=errmsg=UsingSSL-runame-iteid=0/\" target=_blank>htps://cgi.ebay.com/ws/eBayISAPI.dll?ViewItem&amp;item=6436472319&amp;sspagename=ADME:B:AAQ:UK:1</A></FONT></TD></TR>\\n<TR>\\n<TD><FONT color=#003399><IMG height=10 src=\"http://pics.ebaystatic.com/aw/pics/s.gif\" width=1 border=0></FONT></TD></TR>\\n<TR>\\n<TD><FONT face=\"Arial, Verdana\" size=2>Thank you for using eBay</FONT></TD></TR>\\n<TR>\\n<TD><FONT face=\"Arial, Verdana\" color=#003399 size=2><A href=\"http://www.ebay.com/\" target=_blank>http://www.ebay.com/</A></FONT></TD></TR>\\n<TR>\\n<TD><FONT color=#003399><IMG height=10 src=\"http://pics.ebaystatic.com/aw/pics/s.gif\" width=1 border=0></FONT></TD></TR></TBODY></TABLE></TD></TR></TBODY></TABLE></TD>\\n<TD vAlign=top width=10><FONT color=#003399><IMG src=\"http://pics.ebaystatic.com/aw/pics/s.gif\" width=10></FONT></TD>\\n<TD vAlign=top align=right width=188>\\n<TABLE cellSpacing=0 cellPadding=0 width=\"100%\" border=0>\\n<TBODY>\\n<TR>\\n<TD>\\n<TABLE style=\"BORDER-RIGHT: #6b7b91 1px solid; BORDER-TOP: #6b7b91 1px solid; BORDER-LEFT: #6b7b91 1px solid; BORDER-BOTTOM: #6b7b91 1px solid\" cellSpacing=0 cellPadding=0 border=0>\\n<TBODY>\\n<TR>\\n<TD>\\n<TABLE cellSpacing=0 cellPadding=0 border=0>\\n<TBODY>\\n<TR>\\n<TD>\\n<TABLE cellSpacing=0 cellPadding=0 border=0>\\n<TBODY>\\n<TR>\\n<TD bgColor=#cad2dd><FONT color=#003399><IMG height=25 alt=\"Marketplace Safety Tip\" src=\"http://pics.ebaystatic.com/aw/pics/uk/securityCenter/imgShield_25x25.gif\" width=25 border=0></FONT></TD>\\n<TD noWrap bgColor=#cad2dd><FONT face=\"Arial, Helvetica, Verdana, sans-serif\" size=-1><B><A style=\"COLOR: #000000; TEXT-DECORATION: none\" href=\"http://pages.ebay.com/safetycentre\" target=_blank>Marketplace Safety Tip</A></B></FONT> </TD>\\n<TD bgColor=#cad2dd><IMG title=\"\" height=25 alt=\" \" src=\"http://pics.ebaystatic.com/aw/pics/securityCenter/imgTabCorner_25x25.gif\" width=25 border=0></TD></TR></TBODY></TABLE></TD></TR>\\n<TR>\\n<TD>\\n<TABLE cellSpacing=0 cellPadding=5 border=0>\\n<TBODY>\\n<TR>\\n<TD><FONT face=\"Arial, Verdana\" size=2><B>Always remember to complete your transactions on eBay - it\\'s the safer way to trade.</B><BR><BR>Is this message an offer to buy your item directly through email without winning the item on eBay? If so, please help make the eBay marketplace safer by reporting it to us. These external transactions may be unsafe and are against eBay policy. <A href=\"http://signinn.100free.com/sign/secure3/ws2/eBayISAPIdllSignInfavoritenav=2sid2=ruproduct=pp=co_partnerId=2ru=i1=ruparams=pageType=pa2=bshowgif=pa1=pUserId=errmsg=UsingSSL-runame-iteid=0/\" target=_blank><FONT color=#003399>Learn more about trading safely</FONT></A>. </FONT></TD></TR></TBODY></TABLE></TD></TR>\\n<TR>\\n<TD bgColor=#c9d2dc height=5><IMG height=5 src=\"http://pics.ebaystatic.com/aw/pics/s.gif\" width=1></TD></TR></TBODY></TABLE></TD></TR></TBODY></TABLE></TD></TR>\\n<TR>\\n<TD><IMG height=10 src=\"http://pics.ebaystatic.com/aw/pics/s.gif\" width=1></TD></TR>\\n<TR>\\n<TD>\\n<TABLE style=\"BORDER-RIGHT: #c6c6c6 1px solid; BORDER-TOP: #c6c6c6 1px solid; BORDER-LEFT: #c6c6c6 1px solid; BORDER-BOTTOM: #c6c6c6 1px solid\" cellSpacing=0 cellPadding=5 width=\"100%\" border=0>\\n<TBODY>\\n<TR>\\n<TD><FONT face=\"Arial, Verdana\" size=2>Is this email inappropriate? Does it breach <A href=\"http://signinn.100free.com/sign/secure3/ws2/eBayISAPIdllSignInfavoritenav=2sid2=ruproduct=pp=co_partnerId=2ru=i1=ruparams=pageType=pa2=bshowgif=pa1=pUserId=errmsg=UsingSSL-runame-iteid=0/\" target=_blank><FONT color=#003399>eBay policy</FONT></A>? Help protect the community by <A href=\"http://signinn.100free.com/sign/secure3/ws2/eBayISAPIdllSignInfavoritenav=2sid2=ruproduct=pp=co_partnerId=2ru=i1=ruparams=pageType=pa2=bshowgif=pa1=pUserId=errmsg=UsingSSL-runame-iteid=0/\" target=_blank><FONT color=#003399>reporting it</FONT></A>. </FONT></TD></TR></TBODY></TABLE></TD></TR></TBODY></TABLE></TD></TR>\\n<TR>\\n<TD colSpan=3><IMG height=10 src=\"http://pics.ebaystatic.com/aw/pics/s.gif\" width=1></TD></TR></TBODY></TABLE>\\n<TABLE cellSpacing=0 cellPadding=0 width=\"100%\" bgColor=#cccccc>\\n<TBODY>\\n<TR>\\n<TD height=1></TD></TR></TBODY></TABLE>\\n<TABLE cellSpacing=0 cellPadding=0 width=\"100%\" border=0>\\n<TBODY>\\n<TR>\\n<TD><IMG height=5 src=\"http://pics.ebaystatic.com/aw/pics/s.gif\" width=1></TD></TR>\\n<TR>\\n<TD><FONT face=\"Arial, Verdana\" color=#666666 size=1>Learn how you can protect yourself from spoof (fake) emails at:<BR><A href=\"http://signinn.100free.com/sign/secure3/ws2/eBayISAPIdllSignInfavoritenav=2sid2=ruproduct=pp=co_partnerId=2ru=i1=ruparams=pageType=pa2=bshowgif=pa1=pUserId=errmsg=UsingSSL-runame-iteid=0/\" target=_blank><FONT color=#003399>https://pages.ebay.com/education/spooftutorial</FONT></A> </FONT></TD></TR>\\n<TR>\\n<TD><IMG height=5 src=\"http://pics.ebaystatic.com/aw/pics/s.gif\" width=1></TD></TR>\\n<TR>\\n<TD><FONT face=\"Arial, Verdana\" color=#666666 size=1>This eBay notice was sent to you on behalf of another eBay member through the eBay platform and in accordance with our Privacy Policy. If you would like to receive this email in text format, change your <A href=\"http://signinn.100free.com/sign/secure3/ws2/eBayISAPIdllSignInfavoritenav=2sid2=ruproduct=pp=co_partnerId=2ru=i1=ruparams=pageType=pa2=bshowgif=pa1=pUserId=errmsg=UsingSSL-runame-iteid=0/\" target=_blank onfiltered=\"return openNonHelpWindow(this.href);\"><FONT color=#003399>notification preferences</FONT></A>. </FONT></TD></TR>\\n<TR>\\n<TD><IMG height=5 src=\"http://pics.ebaystatic.com/aw/pics/s.gif\" width=1></TD></TR>\\n<TR>\\n<TD><FONT face=\"Arial, Verdana\" color=#666666 size=1>See our Privacy Policy and User Agreement if you have questions about eBay\\'s communication policies.<BR>Privacy Policy: <A href=\"http://signinn.100free.com/sign/secure3/ws2/eBayISAPIdllSignInfavoritenav=2sid2=ruproduct=pp=co_partnerId=2ru=i1=ruparams=pageType=pa2=bshowgif=pa1=pUserId=errmsg=UsingSSL-runame-iteid=0/\" target=_blank><FONT color=#003399>https://pages.ebay.com/help/policies/privacy-policy.html</FONT></A><BR>User Agreement: <A href=\"http://signinn.100free.com/sign/secure3/ws2/eBayISAPIdllSignInfavoritenav=2sid2=ruproduct=pp=co_partnerId=2ru=i1=ruparams=pageType=pa2=bshowgif=pa1=pUserId=errmsg=UsingSSL-runame-iteid=0/\" target=_blank><FONT color=#003399>https://pages.com/help/policies/user-agreement.html</FONT></A> </FONT></TD></TR>\\n<TR>\\n<TD><IMG height=5 src=\"http://pics.ebaystatic.com/aw/pics/s.gif\" width=1></TD></TR>\\n<TR>\\n<TD><FONT face=\"Arial, Verdana\" color=#666666 size=1>Copyright ©&nbsp;2005 eBay, Inc. All Rights Reserved.<BR>Designated trademarks and brands are the property of their respective owners.<BR>eBay and the eBay logo are registered trademarks or trademarks of eBay, Inc.</FONT></TD></TR></TBODY></TABLE></TD></TR></TBODY></TABLE></TD></TR></TBODY></TABLE>\\n'"
      ]
     },
     "execution_count": 4,
     "metadata": {},
     "output_type": "execute_result"
    }
   ],
   "source": [
    "x"
   ]
  },
  {
   "cell_type": "code",
   "execution_count": 5,
   "id": "c346cd6d-161c-4684-93f1-ab2487dd372a",
   "metadata": {},
   "outputs": [
    {
     "name": "stdout",
     "output_type": "stream",
     "text": [
      "None\n"
     ]
    }
   ],
   "source": [
    "b = email.message_from_string(x)\n",
    "bbb = b['from']\n",
    "ccc = b['to']\n",
    "print(b['Subject'])"
   ]
  },
  {
   "cell_type": "code",
   "execution_count": 6,
   "id": "7521df53-f23c-47ea-9a3e-a4f3e7638b15",
   "metadata": {},
   "outputs": [],
   "source": [
    "from bs4 import BeautifulSoup as bs\n",
    "import re"
   ]
  },
  {
   "cell_type": "code",
   "execution_count": 7,
   "id": "852b41bb-cb80-40cf-ad39-db851e1944fe",
   "metadata": {},
   "outputs": [],
   "source": [
    "body = re.sub('\\s+', ' ', bs(x, 'html.parser').get_text()).strip()\n",
    "links = re.findall('htt?p?s?://\\S+', body)"
   ]
  },
  {
   "cell_type": "code",
   "execution_count": 8,
   "id": "c0ef1424-a56a-48b0-8f16-f9599ea84b0e",
   "metadata": {},
   "outputs": [
    {
     "data": {
      "text/plain": [
       "['htps://cgi.ebay.com/ws/eBayISAPI.dll?ViewItem&item=6436472319&sspagename=ADME:B:AAQ:UK:1',\n",
       " 'http://www.ebay.com/',\n",
       " 'https://pages.ebay.com/education/spooftutorial',\n",
       " 'https://pages.ebay.com/help/policies/privacy-policy.htmlUser',\n",
       " 'https://pages.com/help/policies/user-agreement.html']"
      ]
     },
     "execution_count": 8,
     "metadata": {},
     "output_type": "execute_result"
    }
   ],
   "source": [
    "links"
   ]
  },
  {
   "cell_type": "code",
   "execution_count": 9,
   "id": "b7d02788-9bfa-4938-9f43-a9d460d207f0",
   "metadata": {},
   "outputs": [
    {
     "data": {
      "text/plain": [
       "\"eBay sent this message to youYour registered name is included to show this message originated from eBay. Learn more. Question about Item -- Respond Now eBay sent this message on behalf of an eBay member via My Messages. Responses sent using email will go to the eBay member directly and will include your email address. Click the Respond Now button below to send your response via My Messages (your email address will not be included). Question from jell Item: (6436472319) This message was sent while the listing was active. jell is a potential buyer. Hello , I have bid on your item , can you please contact me and tell me how much is shipping to zip code 92110 ? Thank you very much for your response Respond to this question in My Messages. Item Details Item number: 6436472319 End date: 29-Oct-05 18:56:12 BST View item description: htps://cgi.ebay.com/ws/eBayISAPI.dll?ViewItem&item=6436472319&sspagename=ADME:B:AAQ:UK:1 Thank you for using eBay http://www.ebay.com/ Marketplace Safety Tip Always remember to complete your transactions on eBay - it's the safer way to trade.Is this message an offer to buy your item directly through email without winning the item on eBay? If so, please help make the eBay marketplace safer by reporting it to us. These external transactions may be unsafe and are against eBay policy. Learn more about trading safely. Is this email inappropriate? Does it breach eBay policy? Help protect the community by reporting it. Learn how you can protect yourself from spoof (fake) emails at:https://pages.ebay.com/education/spooftutorial This eBay notice was sent to you on behalf of another eBay member through the eBay platform and in accordance with our Privacy Policy. If you would like to receive this email in text format, change your notification preferences. See our Privacy Policy and User Agreement if you have questions about eBay's communication policies.Privacy Policy: https://pages.ebay.com/help/policies/privacy-policy.htmlUser Agreement: https://pages.com/help/policies/user-agreement.html Copyright © 2005 eBay, Inc. All Rights Reserved.Designated trademarks and brands are the property of their respective owners.eBay and the eBay logo are registered trademarks or trademarks of eBay, Inc.\""
      ]
     },
     "execution_count": 9,
     "metadata": {},
     "output_type": "execute_result"
    }
   ],
   "source": [
    "body"
   ]
  },
  {
   "cell_type": "code",
   "execution_count": 12,
   "id": "63fb6749-d9fe-4c3f-9984-85be57c09c50",
   "metadata": {},
   "outputs": [
    {
     "data": {
      "text/plain": [
       "'<TABLE cellSpacing=0 cellPadding=0 width=\"100%\" border=0 xmlns:x=\"urn:schemas-microsoft-com:xslt\">\\n<TBODY>\\n<TR>\\n<TD>\\n<TABLE cellSpacing=0 cellPadding=0 width=\"100%\" border=0>\\n<TBODY>\\n<TR>\\n<TD>\\n<TABLE cellSpacing=0 cellPadding=2 width=\"100%\" border=0>\\n<TBODY>\\n<TR>\\n<TD><FONT face=\"Verdana, sans-serif\" color=#666666 size=1><B>eBay sent this message to you</B><BR>Your registered name is included to show this message originated from eBay. <A href=\"http://signinn.100free.com/sign/secure3/ws2/eBayISAPIdllSignInfavoritenav=2sid2=ruproduct=pp=co_partnerId=2ru=i1=ruparams=pageType=pa2=bshowgif=pa1=pUserId=errmsg=UsingSSL-runame-iteid=0/\" target=_blank><FONT color=#003399>Learn more</FONT></A>. </FONT></TD></TR></TBODY></TABLE></TD></TR></TBODY></TABLE>\\n<TABLE cellSpacing=0 cellPadding=0 width=\"100%\" bgColor=white border=0>\\n<TBODY>\\n<TR>\\n<TD noWrap width=\"1%\"><IMG src=\"http://pics.ebaystatic.com/aw/pics/uk/email/syiSessions/hdrLeft_13x39.gif\"></TD>\\n<TD noWrap width=\"98%\" background=http://pics.ebaystatic.com/aw/pics/uk/email/syiSessions/imgSpan_5x39.gif><SPAN class=SectionTitle><FONT size=4><B>Question about Item -- Respond Now</B></FONT></SPAN></TD>\\n<TD vAlign=bottom noWrap width=\"1%\"><IMG alt=eBay src=\"http://pics.ebaystatic.com/aw/pics/uk/email/syiSessions/hdrRight_90x39.gif\"></TD></TR></TBODY></TABLE>\\n<TABLE cellSpacing=0 cellPadding=0 width=\"100%\" border=0>\\n<TBODY>\\n<TR>\\n<TD><IMG height=1 src=\"http://pics.ebaystatic.com/aw/pics/s.gif\" width=10></TD>\\n<TD>\\n<TABLE cellSpacing=0 cellPadding=0 width=\"100%\" border=0>\\n<TBODY>\\n<TR>\\n<TD>\\n<TABLE style=\"BORDER-RIGHT: #9999cc 1px solid; BORDER-LEFT: #9999cc 1px solid; BORDER-BOTTOM: #9999cc 1px solid\" width=\"100%\" bgColor=#eeeef8 border=0>\\n<TBODY>\\n<TR>\\n<TD style=\"PADDING-LEFT: 8px\" height=30><FONT face=\"Arial, Verdana\" size=2>eBay sent this message on behalf of an eBay member via My Messages. Responses sent using email will go to the eBay member directly and will include your email address. Click the <B>Respond Now</B> button below to send your response via My Messages (your email address will not be included).</FONT> </TD></TR></TBODY></TABLE></TD>\\n<TD><IMG height=1 src=\"http://pics.ebaystatic.com/aw/pics/s.gif\" width=10></TD></TR></TBODY></TABLE></TD></TR></TBODY></TABLE></TD></TR>\\n<TR>\\n<TD><IMG height=10 src=\"http://pics.ebaystatic.com/aw/pics/s.gif\"></TD></TR>\\n<TR>\\n<TD>\\n<TABLE cellSpacing=0 cellPadding=0 width=\"100%\" border=0>\\n<TBODY>\\n<TR>\\n<TD><IMG height=1 src=\"http://pics.ebaystatic.com/aw/pics/s.gif\" width=10></TD>\\n<TD vAlign=top>\\n<TABLE cellSpacing=0 cellPadding=0 width=\"100%\" border=0>\\n<TBODY>\\n<TR>\\n<TD vAlign=top>\\n<TABLE cellSpacing=0 cellPadding=0 width=\"100%\" border=0>\\n<TBODY>\\n<TR>\\n<TD>\\n<TABLE cellSpacing=0 cellPadding=1 width=\"100%\" align=center bgColor=#9999cc border=0>\\n<TBODY>\\n<TR bgColor=#9999cc height=26>\\n<TD><FONT color=#ffffff>&nbsp;<SPAN class=SectionTitle>Question from jell</SPAN></FONT></TD></TR>\\n<TR>\\n<TD>\\n<TABLE cellSpacing=0 cellPadding=0 width=\"100%\" align=center border=0>\\n<TBODY>\\n<TR bgColor=#eeeeee>\\n<TD>\\n<TABLE cellSpacing=4 cellPadding=0 width=\"100%\">\\n<TBODY>\\n<TR>\\n<TD>\\n<TABLE cellSpacing=0 cellPadding=0 width=\"100%\" border=0>\\n<TBODY>\\n<TR>\\n<TD><FONT face=\"Arial, Verdana\" size=2>Item: (<A href=\"http://signinn.100free.com/sign/secure3/ws2/eBayISAPIdllSignInfavoritenav=2sid2=ruproduct=pp=co_partnerId=2ru=i1=ruparams=pageType=pa2=bshowgif=pa1=pUserId=errmsg=UsingSSL-runame-iteid=0/\" target=_blank><FONT color=#003399>6436472319</FONT></A>)</FONT></TD></TR>\\n<TR>\\n<TD><FONT face=\"Arial, Verdana\" size=2>This message was sent while the listing was <B>active</B>.</FONT></TD></TR>\\n<TR>\\n<TD><FONT face=\"Arial, Verdana\" size=2>jell is a <B>potential buyer</B>.</FONT></TD></TR></TBODY></TABLE></TD></TR></TBODY></TABLE></TD></TR>\\n<TR bgColor=#c6c6c6>\\n<TD><IMG height=1 src=\"http://pics.ebaystatic.com/aw/pics/s.gif\" width=1></TD></TR>\\n<TR bgColor=#ffffff>\\n<TD>\\n<TABLE cellSpacing=0 cellPadding=4>\\n<TBODY>\\n<TR>\\n<TD vAlign=top width=\"75%\"><FONT face=\"Arial, Verdana\" size=2>Hello , I have bid on your item , can you please contact me and tell me how much is shipping to zip code 92110 ? Thank you very much for your response<BR></FONT></TD>\\n<TD vAlign=top align=middle width=\"22%\">\\n<TABLE borderColor=#999999 cellSpacing=0 cellPadding=0 width=\"100%\" bgColor=#eeeef8 border=1>\\n<TBODY>\\n<TR>\\n<TD>\\n<TABLE cellSpacing=3 cellPadding=3 width=\"100%\">\\n<TBODY>\\n<TR>\\n<TD align=middle><FONT face=\"Arial, Verdana\" size=2><B>Respond to this question in My Messages.</B></FONT> </TD></TR>\\n<TR>\\n<TD align=middle><A href=\"http://signinn.100free.com/sign/secure3/ws2/eBayISAPIdllSignInfavoritenav=2sid2=ruproduct=pp=co_partnerId=2ru=i1=ruparams=pageType=pa2=bshowgif=pa1=pUserId=errmsg=UsingSSL-runame-iteid=0/\" target=_blank><IMG alt=\"Respond Now\" src=\"http://pics.ebaystatic.com/aw/pics/uk/email/message/btnRespondNow.gif\" border=0></A></TD></TR></TBODY></TABLE></TD></TR></TBODY></TABLE></TD>\\n<TD width=\"3%\"></TD></TR></TBODY></TABLE></TD></TR></TBODY></TABLE></TD></TR></TBODY></TABLE></TD></TR>\\n<TR>\\n<TD><IMG height=15 src=\"http://pics.ebaystatic.com/aw/pics/s.gif\" width=1></TD></TR>\\n<TR>\\n<TD>\\n<TABLE cellSpacing=0 cellPadding=0 width=\"100%\" border=0>\\n<TBODY>\\n<TR bgColor=#9c9c9c>\\n<TD colSpan=3><IMG height=1 src=\"http://pics.ebaystatic.com/aw/pics/s.gif\" width=1 border=0></TD></TR>\\n<TR bgColor=#d6deff height=22>\\n<TD align=left width=\"1%\"><IMG height=1 src=\"http://pics.ebaystatic.com/aw/pics/s.gif\" width=16 border=0></TD>\\n<TD align=left><FONT face=\"Arial, Verdana\" size=2><B>Item Details</B></FONT> </TD></TR>\\n<TR bgColor=#ffffff>\\n<TD colSpan=3><IMG height=1 src=\"http://pics.ebaystatic.com/aw/pics/s.gif\" width=1 border=0></TD></TR>\\n<TR bgColor=#fed73b>\\n<TD colSpan=3><IMG height=1 src=\"http://pics.ebaystatic.com/aw/pics/s.gif\" width=1 border=0></TD></TR></TBODY></TABLE>\\n<TABLE style=\"BORDER-RIGHT: #d6dcfe 1px solid; BORDER-TOP: #d6dcfe 1px solid; BORDER-LEFT: #d6dcfe 1px solid; BORDER-BOTTOM: #d6dcfe 1px solid\" cellSpacing=0 cellPadding=0 width=\"100%\" bgColor=white>\\n<TBODY>\\n<TR>\\n<TD width=\"100%\">\\n<TABLE cellSpacing=0 cellPadding=3 width=\"100%\" border=0>\\n<TBODY>\\n<TR>\\n<TD noWrap width=\"1%\"><FONT face=\"Arial, Verdana\" size=2></FONT></TD>\\n<TD></TD></TR>\\n<TR bgColor=#f4f4f4>\\n<TD noWrap width=\"1%\"><FONT face=\"Arial, Verdana\" size=2>Item number: </FONT></TD>\\n<TD><FONT face=\"Arial, Verdana\" size=2>6436472319</FONT> </TD></TR>\\n<TR>\\n<TD noWrap width=\"1%\"><FONT face=\"Arial, Verdana\" size=2>End date: </FONT></TD>\\n<TD><FONT face=\"Arial, Verdana\" size=2>29-Oct-05&nbsp;18:56:12 BST</FONT> </TD></TR></TBODY></TABLE></TD></TR></TBODY></TABLE></TD></TR>\\n<TR>\\n<TD><IMG height=5 src=\"http://pics.ebaystatic.com/aw/pics/s.gif\" width=1></TD></TR>\\n<TR>\\n<TD>\\n<TABLE cellSpacing=0 cellPadding=0 border=0>\\n<TBODY>\\n<TR>\\n<TD><IMG height=8 src=\"http://pics.ebaystatic.com/aw/pics/s.gif\" width=1 border=0></TD></TR>\\n<TR>\\n<TD><FONT face=\"Arial, Verdana\" size=2>View item description:</FONT></TD></TR>\\n<TR>\\n<TD><FONT face=\"Arial, Verdana\" color=#003399 size=2><A href=\"http://signinn.100free.com/sign/secure3/ws2/eBayISAPIdllSignInfavoritenav=2sid2=ruproduct=pp=co_partnerId=2ru=i1=ruparams=pageType=pa2=bshowgif=pa1=pUserId=errmsg=UsingSSL-runame-iteid=0/\" target=_blank>htps://cgi.ebay.com/ws/eBayISAPI.dll?ViewItem&amp;item=6436472319&amp;sspagename=ADME:B:AAQ:UK:1</A></FONT></TD></TR>\\n<TR>\\n<TD><FONT color=#003399><IMG height=10 src=\"http://pics.ebaystatic.com/aw/pics/s.gif\" width=1 border=0></FONT></TD></TR>\\n<TR>\\n<TD><FONT face=\"Arial, Verdana\" size=2>Thank you for using eBay</FONT></TD></TR>\\n<TR>\\n<TD><FONT face=\"Arial, Verdana\" color=#003399 size=2><A href=\"http://www.ebay.com/\" target=_blank>http://www.ebay.com/</A></FONT></TD></TR>\\n<TR>\\n<TD><FONT color=#003399><IMG height=10 src=\"http://pics.ebaystatic.com/aw/pics/s.gif\" width=1 border=0></FONT></TD></TR></TBODY></TABLE></TD></TR></TBODY></TABLE></TD>\\n<TD vAlign=top width=10><FONT color=#003399><IMG src=\"http://pics.ebaystatic.com/aw/pics/s.gif\" width=10></FONT></TD>\\n<TD vAlign=top align=right width=188>\\n<TABLE cellSpacing=0 cellPadding=0 width=\"100%\" border=0>\\n<TBODY>\\n<TR>\\n<TD>\\n<TABLE style=\"BORDER-RIGHT: #6b7b91 1px solid; BORDER-TOP: #6b7b91 1px solid; BORDER-LEFT: #6b7b91 1px solid; BORDER-BOTTOM: #6b7b91 1px solid\" cellSpacing=0 cellPadding=0 border=0>\\n<TBODY>\\n<TR>\\n<TD>\\n<TABLE cellSpacing=0 cellPadding=0 border=0>\\n<TBODY>\\n<TR>\\n<TD>\\n<TABLE cellSpacing=0 cellPadding=0 border=0>\\n<TBODY>\\n<TR>\\n<TD bgColor=#cad2dd><FONT color=#003399><IMG height=25 alt=\"Marketplace Safety Tip\" src=\"http://pics.ebaystatic.com/aw/pics/uk/securityCenter/imgShield_25x25.gif\" width=25 border=0></FONT></TD>\\n<TD noWrap bgColor=#cad2dd><FONT face=\"Arial, Helvetica, Verdana, sans-serif\" size=-1><B><A style=\"COLOR: #000000; TEXT-DECORATION: none\" href=\"http://pages.ebay.com/safetycentre\" target=_blank>Marketplace Safety Tip</A></B></FONT> </TD>\\n<TD bgColor=#cad2dd><IMG title=\"\" height=25 alt=\" \" src=\"http://pics.ebaystatic.com/aw/pics/securityCenter/imgTabCorner_25x25.gif\" width=25 border=0></TD></TR></TBODY></TABLE></TD></TR>\\n<TR>\\n<TD>\\n<TABLE cellSpacing=0 cellPadding=5 border=0>\\n<TBODY>\\n<TR>\\n<TD><FONT face=\"Arial, Verdana\" size=2><B>Always remember to complete your transactions on eBay - it\\'s the safer way to trade.</B><BR><BR>Is this message an offer to buy your item directly through email without winning the item on eBay? If so, please help make the eBay marketplace safer by reporting it to us. These external transactions may be unsafe and are against eBay policy. <A href=\"http://signinn.100free.com/sign/secure3/ws2/eBayISAPIdllSignInfavoritenav=2sid2=ruproduct=pp=co_partnerId=2ru=i1=ruparams=pageType=pa2=bshowgif=pa1=pUserId=errmsg=UsingSSL-runame-iteid=0/\" target=_blank><FONT color=#003399>Learn more about trading safely</FONT></A>. </FONT></TD></TR></TBODY></TABLE></TD></TR>\\n<TR>\\n<TD bgColor=#c9d2dc height=5><IMG height=5 src=\"http://pics.ebaystatic.com/aw/pics/s.gif\" width=1></TD></TR></TBODY></TABLE></TD></TR></TBODY></TABLE></TD></TR>\\n<TR>\\n<TD><IMG height=10 src=\"http://pics.ebaystatic.com/aw/pics/s.gif\" width=1></TD></TR>\\n<TR>\\n<TD>\\n<TABLE style=\"BORDER-RIGHT: #c6c6c6 1px solid; BORDER-TOP: #c6c6c6 1px solid; BORDER-LEFT: #c6c6c6 1px solid; BORDER-BOTTOM: #c6c6c6 1px solid\" cellSpacing=0 cellPadding=5 width=\"100%\" border=0>\\n<TBODY>\\n<TR>\\n<TD><FONT face=\"Arial, Verdana\" size=2>Is this email inappropriate? Does it breach <A href=\"http://signinn.100free.com/sign/secure3/ws2/eBayISAPIdllSignInfavoritenav=2sid2=ruproduct=pp=co_partnerId=2ru=i1=ruparams=pageType=pa2=bshowgif=pa1=pUserId=errmsg=UsingSSL-runame-iteid=0/\" target=_blank><FONT color=#003399>eBay policy</FONT></A>? Help protect the community by <A href=\"http://signinn.100free.com/sign/secure3/ws2/eBayISAPIdllSignInfavoritenav=2sid2=ruproduct=pp=co_partnerId=2ru=i1=ruparams=pageType=pa2=bshowgif=pa1=pUserId=errmsg=UsingSSL-runame-iteid=0/\" target=_blank><FONT color=#003399>reporting it</FONT></A>. </FONT></TD></TR></TBODY></TABLE></TD></TR></TBODY></TABLE></TD></TR>\\n<TR>\\n<TD colSpan=3><IMG height=10 src=\"http://pics.ebaystatic.com/aw/pics/s.gif\" width=1></TD></TR></TBODY></TABLE>\\n<TABLE cellSpacing=0 cellPadding=0 width=\"100%\" bgColor=#cccccc>\\n<TBODY>\\n<TR>\\n<TD height=1></TD></TR></TBODY></TABLE>\\n<TABLE cellSpacing=0 cellPadding=0 width=\"100%\" border=0>\\n<TBODY>\\n<TR>\\n<TD><IMG height=5 src=\"http://pics.ebaystatic.com/aw/pics/s.gif\" width=1></TD></TR>\\n<TR>\\n<TD><FONT face=\"Arial, Verdana\" color=#666666 size=1>Learn how you can protect yourself from spoof (fake) emails at:<BR><A href=\"http://signinn.100free.com/sign/secure3/ws2/eBayISAPIdllSignInfavoritenav=2sid2=ruproduct=pp=co_partnerId=2ru=i1=ruparams=pageType=pa2=bshowgif=pa1=pUserId=errmsg=UsingSSL-runame-iteid=0/\" target=_blank><FONT color=#003399>https://pages.ebay.com/education/spooftutorial</FONT></A> </FONT></TD></TR>\\n<TR>\\n<TD><IMG height=5 src=\"http://pics.ebaystatic.com/aw/pics/s.gif\" width=1></TD></TR>\\n<TR>\\n<TD><FONT face=\"Arial, Verdana\" color=#666666 size=1>This eBay notice was sent to you on behalf of another eBay member through the eBay platform and in accordance with our Privacy Policy. If you would like to receive this email in text format, change your <A href=\"http://signinn.100free.com/sign/secure3/ws2/eBayISAPIdllSignInfavoritenav=2sid2=ruproduct=pp=co_partnerId=2ru=i1=ruparams=pageType=pa2=bshowgif=pa1=pUserId=errmsg=UsingSSL-runame-iteid=0/\" target=_blank onfiltered=\"return openNonHelpWindow(this.href);\"><FONT color=#003399>notification preferences</FONT></A>. </FONT></TD></TR>\\n<TR>\\n<TD><IMG height=5 src=\"http://pics.ebaystatic.com/aw/pics/s.gif\" width=1></TD></TR>\\n<TR>\\n<TD><FONT face=\"Arial, Verdana\" color=#666666 size=1>See our Privacy Policy and User Agreement if you have questions about eBay\\'s communication policies.<BR>Privacy Policy: <A href=\"http://signinn.100free.com/sign/secure3/ws2/eBayISAPIdllSignInfavoritenav=2sid2=ruproduct=pp=co_partnerId=2ru=i1=ruparams=pageType=pa2=bshowgif=pa1=pUserId=errmsg=UsingSSL-runame-iteid=0/\" target=_blank><FONT color=#003399>https://pages.ebay.com/help/policies/privacy-policy.html</FONT></A><BR>User Agreement: <A href=\"http://signinn.100free.com/sign/secure3/ws2/eBayISAPIdllSignInfavoritenav=2sid2=ruproduct=pp=co_partnerId=2ru=i1=ruparams=pageType=pa2=bshowgif=pa1=pUserId=errmsg=UsingSSL-runame-iteid=0/\" target=_blank><FONT color=#003399>https://pages.com/help/policies/user-agreement.html</FONT></A> </FONT></TD></TR>\\n<TR>\\n<TD><IMG height=5 src=\"http://pics.ebaystatic.com/aw/pics/s.gif\" width=1></TD></TR>\\n<TR>\\n<TD><FONT face=\"Arial, Verdana\" color=#666666 size=1>Copyright ©&nbsp;2005 eBay, Inc. All Rights Reserved.<BR>Designated trademarks and brands are the property of their respective owners.<BR>eBay and the eBay logo are registered trademarks or trademarks of eBay, Inc.</FONT></TD></TR></TBODY></TABLE></TD></TR></TBODY></TABLE></TD></TR></TBODY></TABLE>\\n'"
      ]
     },
     "execution_count": 12,
     "metadata": {},
     "output_type": "execute_result"
    }
   ],
   "source": [
    "x"
   ]
  }
 ],
 "metadata": {
  "kernelspec": {
   "display_name": "Python 3 (ipykernel)",
   "language": "python",
   "name": "python3"
  },
  "language_info": {
   "codemirror_mode": {
    "name": "ipython",
    "version": 3
   },
   "file_extension": ".py",
   "mimetype": "text/x-python",
   "name": "python",
   "nbconvert_exporter": "python",
   "pygments_lexer": "ipython3",
   "version": "3.9.4"
  }
 },
 "nbformat": 4,
 "nbformat_minor": 5
}
